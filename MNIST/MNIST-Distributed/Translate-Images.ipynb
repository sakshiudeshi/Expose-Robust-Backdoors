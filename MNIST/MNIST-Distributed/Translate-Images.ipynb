{
 "cells": [
  {
   "cell_type": "markdown",
   "metadata": {},
   "source": [
    "# MNIST-Distributed-Backdoor\n",
    "### Image Translation\n",
    "\n",
    "#### Imports"
   ]
  },
  {
   "cell_type": "code",
   "execution_count": 2,
   "metadata": {},
   "outputs": [],
   "source": [
    "from torch.utils.data import DataLoader, Dataset, TensorDataset\n",
    "from torch.utils.data import DataLoader, Dataset, TensorDataset\n",
    "from torch.optim import *\n",
    "from cox.utils import Parameters\n",
    "\n",
    "from robustness import model_utils, datasets, train, defaults\n",
    "from robustness.model_utils import make_and_restore_model\n",
    "from DatasetsNew import MNIST\n",
    "\n",
    "import cox.store\n",
    "import torch as ch\n",
    "import DatasetsNew\n",
    "import defaultsNew\n",
    "import torchvision\n",
    "import matplotlib.pyplot as plt\n",
    "import torch.nn as nn\n",
    "import torch.nn.functional as F\n",
    "import os\n",
    "import cv2\n",
    "import copy\n",
    "import numpy as np\n",
    "\n",
    "import pickle\n",
    "import sys\n",
    "import psutil\n",
    "import gc\n",
    "\n",
    "\n",
    "from label_maps import CLASS_DICT\n",
    "from user_constants import DATA_PATH_DICT"
   ]
  },
  {
   "cell_type": "markdown",
   "metadata": {},
   "source": [
    "#### DATASET CONSTANTS "
   ]
  },
  {
   "cell_type": "code",
   "execution_count": 9,
   "metadata": {},
   "outputs": [],
   "source": [
    "NUM_WORKERS = 8\n",
    "BATCH_SIZE = 100"
   ]
  },
  {
   "cell_type": "code",
   "execution_count": 10,
   "metadata": {},
   "outputs": [],
   "source": [
    "DATA = 'MNIST' "
   ]
  },
  {
   "cell_type": "markdown",
   "metadata": {},
   "source": [
    "#### Load dataset"
   ]
  },
  {
   "cell_type": "code",
   "execution_count": 13,
   "metadata": {},
   "outputs": [
    {
     "name": "stdout",
     "output_type": "stream",
     "text": [
      "==> Preparing dataset mnist..\n"
     ]
    }
   ],
   "source": [
    "# Load dataset\n",
    "dataset_function = getattr(DatasetsNew, 'MNIST')\n",
    "DATA_PATH_DICT[DATA]\n",
    "dataset = dataset_function(DATA_PATH_DICT[DATA])\n",
    "_, test_loader = dataset.make_loaders(workers=NUM_WORKERS,\n",
    "                                      batch_size=BATCH_SIZE, \n",
    "                                      data_aug=False)\n",
    "data_iterator = enumerate(test_loader.dataset)"
   ]
  },
  {
   "cell_type": "code",
   "execution_count": 14,
   "metadata": {},
   "outputs": [
    {
     "name": "stdout",
     "output_type": "stream",
     "text": [
      "=> loading checkpoint 'models/MNIST_small_trigger_Distributed_100_epochs_checkpoint.pt.best'\n",
      "=> loaded checkpoint 'models/MNIST_small_trigger_Distributed_100_epochs_checkpoint.pt.best' (epoch 66)\n",
      "\n"
     ]
    }
   ],
   "source": [
    "model_backdoored, _ = make_and_restore_model(arch='resnet18', dataset=dataset,resume_path='models/MNIST_small_trigger_Distributed_100_epochs_checkpoint.pt.best',parallel=False) \n",
    "model_backdoored.eval()\n",
    "print()"
   ]
  },
  {
   "cell_type": "code",
   "execution_count": 15,
   "metadata": {},
   "outputs": [],
   "source": [
    "_, (imgs, label) = next(enumerate(test_loader))"
   ]
  },
  {
   "cell_type": "code",
   "execution_count": 16,
   "metadata": {},
   "outputs": [],
   "source": [
    "targ = []\n",
    "targ_lbl = 0\n",
    "for i in range(BATCH_SIZE):\n",
    "    targ.append(targ_lbl)\n",
    "targ = ch.tensor(targ)"
   ]
  },
  {
   "cell_type": "code",
   "execution_count": 17,
   "metadata": {},
   "outputs": [],
   "source": [
    "kwargs = {\n",
    "        #'criterion': ch.nn.CrossEntropyLoss(reduction='none'),\n",
    "        'constraint':'2',\n",
    "        'eps': 100,\n",
    "        'step_size': 0.25,\n",
    "        'iterations': 150,\n",
    "        'do_tqdm': True,\n",
    "        'targeted': True,\n",
    "}"
   ]
  },
  {
   "cell_type": "markdown",
   "metadata": {},
   "source": [
    "### Translation for Distributed Backdoored MNIST model"
   ]
  },
  {
   "cell_type": "code",
   "execution_count": 18,
   "metadata": {},
   "outputs": [
    {
     "name": "stdout",
     "output_type": "stream",
     "text": [
      "==> Preparing dataset mnist..\n"
     ]
    },
    {
     "name": "stderr",
     "output_type": "stream",
     "text": [
      "Current loss: 0.0001040887800627388: 100%|██████████| 150/150 [00:07<00:00, 19.07it/s] \n",
      "Current loss: 3.929138074454386e-06: 100%|██████████| 150/150 [00:07<00:00, 19.80it/s] \n",
      "Current loss: 1.3523101188184228e-05: 100%|██████████| 150/150 [00:07<00:00, 19.76it/s]\n",
      "Current loss: 8.258819434558973e-06: 100%|██████████| 150/150 [00:07<00:00, 19.78it/s] \n",
      "Current loss: 3.206252949894406e-05: 100%|██████████| 150/150 [00:07<00:00, 19.74it/s] \n",
      "Current loss: 9.054082870483398:   2%|▏         | 3/150 [00:00<00:07, 20.26it/s]"
     ]
    },
    {
     "name": "stdout",
     "output_type": "stream",
     "text": [
      "torch.Size([500, 1, 28, 28])\n",
      "Saved:  saved_pickles/backdoored-model-img-translated/img_translated_from_dataset_0.pkl\n"
     ]
    },
    {
     "name": "stderr",
     "output_type": "stream",
     "text": [
      "Current loss: 2.6226043701171875e-06: 100%|██████████| 150/150 [00:07<00:00, 19.60it/s]\n",
      "Current loss: 1.6307830037476378e-06: 100%|██████████| 150/150 [00:07<00:00, 19.75it/s]\n",
      "Current loss: 1.6307830037476378e-06: 100%|██████████| 150/150 [00:07<00:00, 19.75it/s]\n",
      "Current loss: 1.430511474609375e-06: 100%|██████████| 150/150 [00:07<00:00, 19.76it/s] \n",
      "Current loss: 2.4986265998450108e-06: 100%|██████████| 150/150 [00:08<00:00, 18.48it/s]\n",
      "Current loss: 8.242544174194336:   1%|▏         | 2/150 [00:00<00:07, 19.42it/s]"
     ]
    },
    {
     "name": "stdout",
     "output_type": "stream",
     "text": [
      "torch.Size([500, 1, 28, 28])\n",
      "Saved:  saved_pickles/backdoored-model-img-translated/img_translated_from_dataset_1.pkl\n"
     ]
    },
    {
     "name": "stderr",
     "output_type": "stream",
     "text": [
      "Current loss: 6.542205483128782e-06: 100%|██████████| 150/150 [00:07<00:00, 19.15it/s] \n",
      "Current loss: 5.2032468374818563e-05: 100%|██████████| 150/150 [00:07<00:00, 19.77it/s]\n",
      "Current loss: 6.49452204015688e-06: 100%|██████████| 150/150 [00:07<00:00, 19.80it/s]  \n",
      "Current loss: 5.664825494022807e-06: 100%|██████████| 150/150 [00:07<00:00, 19.80it/s] \n",
      "Current loss: 3.890991138177924e-06: 100%|██████████| 150/150 [00:07<00:00, 19.62it/s] \n",
      "Current loss: 8.294120788574219:   1%|▏         | 2/150 [00:00<00:07, 19.81it/s]"
     ]
    },
    {
     "name": "stdout",
     "output_type": "stream",
     "text": [
      "torch.Size([500, 1, 28, 28])\n",
      "Saved:  saved_pickles/backdoored-model-img-translated/img_translated_from_dataset_2.pkl\n"
     ]
    },
    {
     "name": "stderr",
     "output_type": "stream",
     "text": [
      "Current loss: 2.8610228852699038e-08: 100%|██████████| 150/150 [00:07<00:00, 19.77it/s]\n",
      "Current loss: 4.768371297814156e-08: 100%|██████████| 150/150 [00:07<00:00, 19.76it/s] \n",
      "Current loss: 2.8610228852699038e-08: 100%|██████████| 150/150 [00:07<00:00, 19.45it/s]\n",
      "Current loss: 3.814697180359872e-08: 100%|██████████| 150/150 [00:07<00:00, 19.82it/s] \n",
      "Current loss: 5.7220457705398076e-08: 100%|██████████| 150/150 [00:07<00:00, 19.79it/s]\n",
      "Current loss: 8.554174423217773:   2%|▏         | 3/150 [00:00<00:07, 20.31it/s]"
     ]
    },
    {
     "name": "stdout",
     "output_type": "stream",
     "text": [
      "torch.Size([500, 1, 28, 28])\n",
      "Saved:  saved_pickles/backdoored-model-img-translated/img_translated_from_dataset_3.pkl\n"
     ]
    },
    {
     "name": "stderr",
     "output_type": "stream",
     "text": [
      "Current loss: 6.599426342290826e-06: 100%|██████████| 150/150 [00:07<00:00, 19.62it/s] \n",
      "Current loss: 2.1076202756376006e-06: 100%|██████████| 150/150 [00:07<00:00, 19.70it/s]\n",
      "Current loss: 6.9618222369172145e-06: 100%|██████████| 150/150 [00:07<00:00, 19.76it/s]\n",
      "Current loss: 1.1100768460892141e-05: 100%|██████████| 150/150 [00:07<00:00, 19.74it/s]\n",
      "Current loss: 5.092620540381176e-06: 100%|██████████| 150/150 [00:07<00:00, 19.74it/s] \n",
      "Current loss: 8.385787010192871:   2%|▏         | 3/150 [00:00<00:07, 20.35it/s]"
     ]
    },
    {
     "name": "stdout",
     "output_type": "stream",
     "text": [
      "torch.Size([500, 1, 28, 28])\n",
      "Saved:  saved_pickles/backdoored-model-img-translated/img_translated_from_dataset_4.pkl\n"
     ]
    },
    {
     "name": "stderr",
     "output_type": "stream",
     "text": [
      "Current loss: 2.4700163976376643e-06: 100%|██████████| 150/150 [00:07<00:00, 19.73it/s]\n",
      "Current loss: 2.174377414121409e-06: 100%|██████████| 150/150 [00:07<00:00, 19.77it/s] \n",
      "Current loss: 1.8882750509874313e-06: 100%|██████████| 150/150 [00:07<00:00, 19.75it/s]\n",
      "Current loss: 2.212524350397871e-06: 100%|██████████| 150/150 [00:07<00:00, 19.78it/s] \n",
      "Current loss: 2.47955313170678e-06: 100%|██████████| 150/150 [00:07<00:00, 19.72it/s]  \n",
      "Current loss: 8.843586921691895:   2%|▏         | 3/150 [00:00<00:07, 20.22it/s]"
     ]
    },
    {
     "name": "stdout",
     "output_type": "stream",
     "text": [
      "torch.Size([500, 1, 28, 28])\n",
      "Saved:  saved_pickles/backdoored-model-img-translated/img_translated_from_dataset_5.pkl\n"
     ]
    },
    {
     "name": "stderr",
     "output_type": "stream",
     "text": [
      "Current loss: 5.121230969962198e-06: 100%|██████████| 150/150 [00:07<00:00, 19.72it/s] \n",
      "Current loss: 1.410484310326865e-05: 100%|██████████| 150/150 [00:07<00:00, 19.76it/s] \n",
      "Current loss: 1.0461806596140377e-05: 100%|██████████| 150/150 [00:07<00:00, 19.75it/s]\n",
      "Current loss: 1.2187957509013359e-05: 100%|██████████| 150/150 [00:07<00:00, 19.76it/s]\n",
      "Current loss: 4.615783382178051e-06: 100%|██████████| 150/150 [00:07<00:00, 19.73it/s] \n",
      "Current loss: 8.632136344909668:   2%|▏         | 3/150 [00:00<00:07, 20.18it/s]"
     ]
    },
    {
     "name": "stdout",
     "output_type": "stream",
     "text": [
      "torch.Size([500, 1, 28, 28])\n",
      "Saved:  saved_pickles/backdoored-model-img-translated/img_translated_from_dataset_6.pkl\n"
     ]
    },
    {
     "name": "stderr",
     "output_type": "stream",
     "text": [
      "Current loss: 0.0: 100%|██████████| 150/150 [00:07<00:00, 19.83it/s]                  \n",
      "Current loss: 0.0: 100%|██████████| 150/150 [00:07<00:00, 19.76it/s]                  \n",
      "Current loss: 0.0: 100%|██████████| 150/150 [00:07<00:00, 19.78it/s]                   \n",
      "Current loss: 0.0: 100%|██████████| 150/150 [00:07<00:00, 19.82it/s]                  \n",
      "Current loss: 0.0: 100%|██████████| 150/150 [00:07<00:00, 19.76it/s]                  \n",
      "Current loss: 8.527326583862305:   2%|▏         | 3/150 [00:00<00:07, 20.26it/s]"
     ]
    },
    {
     "name": "stdout",
     "output_type": "stream",
     "text": [
      "torch.Size([500, 1, 28, 28])\n",
      "Saved:  saved_pickles/backdoored-model-img-translated/img_translated_from_dataset_7.pkl\n"
     ]
    },
    {
     "name": "stderr",
     "output_type": "stream",
     "text": [
      "Current loss: 5.626678216685832e-07: 100%|██████████| 150/150 [00:07<00:00, 19.79it/s] \n",
      "Current loss: 4.2915343101412873e-07: 100%|██████████| 150/150 [00:07<00:00, 19.79it/s]\n",
      "Current loss: 6.389617510649259e-07: 100%|██████████| 150/150 [00:07<00:00, 19.77it/s] \n",
      "Current loss: 5.626678216685832e-07: 100%|██████████| 150/150 [00:07<00:00, 19.79it/s] \n",
      "Current loss: 5.149840944795869e-07: 100%|██████████| 150/150 [00:07<00:00, 19.78it/s] \n",
      "Current loss: 8.533876419067383:   2%|▏         | 3/150 [00:00<00:07, 20.42it/s]"
     ]
    },
    {
     "name": "stdout",
     "output_type": "stream",
     "text": [
      "torch.Size([500, 1, 28, 28])\n",
      "Saved:  saved_pickles/backdoored-model-img-translated/img_translated_from_dataset_8.pkl\n"
     ]
    },
    {
     "name": "stderr",
     "output_type": "stream",
     "text": [
      "Current loss: 1.3923644246460753e-06: 100%|██████████| 150/150 [00:07<00:00, 19.73it/s]\n",
      "Current loss: 1.0299681889591739e-06: 100%|██████████| 150/150 [00:07<00:00, 19.77it/s]\n",
      "Current loss: 2.4986265998450108e-06: 100%|██████████| 150/150 [00:07<00:00, 19.73it/s]\n",
      "Current loss: 1.592636067471176e-06: 100%|██████████| 150/150 [00:07<00:00, 19.74it/s] \n",
      "Current loss: 1.2111663636460435e-06: 100%|██████████| 150/150 [00:07<00:00, 19.74it/s]"
     ]
    },
    {
     "name": "stdout",
     "output_type": "stream",
     "text": [
      "torch.Size([500, 1, 28, 28])\n",
      "Saved:  saved_pickles/backdoored-model-img-translated/img_translated_from_dataset_9.pkl\n"
     ]
    },
    {
     "name": "stderr",
     "output_type": "stream",
     "text": [
      "\n"
     ]
    }
   ],
   "source": [
    "_, train_loader = dataset.make_loaders(workers=NUM_WORKERS, batch_size=BATCH_SIZE)\n",
    "_, (imgs, label) = next(enumerate(train_loader))\n",
    "\n",
    "for targ_lbl in range(10):\n",
    "    targ = []\n",
    "\n",
    "\n",
    "    for i in range(BATCH_SIZE):\n",
    "        targ.append(targ_lbl)\n",
    "    targ = ch.tensor(targ)\n",
    "\n",
    "    _, img_translated = model_backdoored(imgs.cuda(), targ.cuda(), make_adv=True, **kwargs)\n",
    "\n",
    "    for i in range(4):\n",
    "        _, (imgs, label) = next(enumerate(train_loader))\n",
    "        targ = []\n",
    "        for i in range(BATCH_SIZE):\n",
    "            targ.append(targ_lbl)\n",
    "        targ = ch.tensor(targ)\n",
    "\n",
    "        _, img_translated_new = model_backdoored(imgs.cuda(), targ.cuda(), make_adv=True, **kwargs)\n",
    "        img_translated = ch.cat((img_translated, img_translated_new), 0)\n",
    "\n",
    "    print(img_translated.size())\n",
    "    \n",
    "    \n",
    "    filename = \"saved_pickles/backdoored-model-img-translated/img_translated_from_dataset_\" + str(targ_lbl) + \".pkl\"\n",
    "    \n",
    "    with open(filename, 'wb') as handle:\n",
    "        pickle.dump(img_translated, handle)\n",
    "    print(\"Saved: \", filename)"
   ]
  },
  {
   "cell_type": "code",
   "execution_count": null,
   "metadata": {},
   "outputs": [],
   "source": []
  }
 ],
 "metadata": {
  "kernelspec": {
   "display_name": "Python 3",
   "language": "python",
   "name": "python3"
  },
  "language_info": {
   "codemirror_mode": {
    "name": "ipython",
    "version": 3
   },
   "file_extension": ".py",
   "mimetype": "text/x-python",
   "name": "python",
   "nbconvert_exporter": "python",
   "pygments_lexer": "ipython3",
   "version": "3.7.4"
  }
 },
 "nbformat": 4,
 "nbformat_minor": 4
}
