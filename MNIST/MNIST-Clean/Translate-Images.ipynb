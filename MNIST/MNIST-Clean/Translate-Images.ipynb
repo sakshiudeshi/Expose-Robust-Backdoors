{
 "cells": [
  {
   "cell_type": "markdown",
   "metadata": {},
   "source": [
    "# MNIST-Clean\n",
    "### Image Translation\n",
    "\n",
    "#### Imports"
   ]
  },
  {
   "cell_type": "code",
   "execution_count": 1,
   "metadata": {},
   "outputs": [],
   "source": [
    "from torch.utils.data import DataLoader, Dataset, TensorDataset\n",
    "from torch.utils.data import DataLoader, Dataset, TensorDataset\n",
    "from torch.optim import *\n",
    "from cox.utils import Parameters\n",
    "\n",
    "from robustness import model_utils, datasets, train, defaults\n",
    "from robustness.model_utils import make_and_restore_model\n",
    "from DatasetsNew import MNIST\n",
    "\n",
    "import cox.store\n",
    "import torch as ch\n",
    "import DatasetsNew\n",
    "import defaultsNew\n",
    "import torchvision\n",
    "import matplotlib.pyplot as plt\n",
    "import torch.nn as nn\n",
    "import torch.nn.functional as F\n",
    "import os\n",
    "import cv2\n",
    "import copy\n",
    "import numpy as np\n",
    "\n",
    "import pickle\n",
    "import sys\n",
    "import psutil\n",
    "import gc\n",
    "\n",
    "\n",
    "from label_maps import CLASS_DICT\n",
    "from user_constants import DATA_PATH_DICT"
   ]
  },
  {
   "cell_type": "markdown",
   "metadata": {},
   "source": [
    "#### DATASET CONSTANTS "
   ]
  },
  {
   "cell_type": "code",
   "execution_count": 2,
   "metadata": {},
   "outputs": [],
   "source": [
    "NUM_WORKERS = 8\n",
    "BATCH_SIZE = 100"
   ]
  },
  {
   "cell_type": "code",
   "execution_count": 3,
   "metadata": {},
   "outputs": [],
   "source": [
    "DATA = 'MNIST' # Choices: ['H2Z', 'A2O', 'S2W']"
   ]
  },
  {
   "cell_type": "markdown",
   "metadata": {},
   "source": [
    "#### Load dataset"
   ]
  },
  {
   "cell_type": "code",
   "execution_count": 4,
   "metadata": {},
   "outputs": [
    {
     "name": "stdout",
     "output_type": "stream",
     "text": [
      "==> Preparing dataset mnist..\n"
     ]
    }
   ],
   "source": [
    "# Load dataset\n",
    "dataset_function = getattr(DatasetsNew, 'MNIST')\n",
    "DATA_PATH_DICT[DATA]\n",
    "dataset = dataset_function(DATA_PATH_DICT[DATA])\n",
    "_, test_loader = dataset.make_loaders(workers=NUM_WORKERS,\n",
    "                                      batch_size=BATCH_SIZE, \n",
    "                                      data_aug=False)\n",
    "data_iterator = enumerate(test_loader.dataset)"
   ]
  },
  {
   "cell_type": "code",
   "execution_count": 11,
   "metadata": {},
   "outputs": [],
   "source": [
    "kwargs = {\n",
    "        'constraint':'2',\n",
    "        'eps': 100,\n",
    "        'step_size': 0.25,\n",
    "        'iterations': 50,\n",
    "        'do_tqdm': True,\n",
    "        'targeted': True,\n",
    "}\n"
   ]
  },
  {
   "cell_type": "markdown",
   "metadata": {},
   "source": [
    "### Translation for Clean MNIST model"
   ]
  },
  {
   "cell_type": "code",
   "execution_count": 14,
   "metadata": {},
   "outputs": [
    {
     "name": "stdout",
     "output_type": "stream",
     "text": [
      "=> loading checkpoint 'models/MNIST_Clean_100_epochs_checkpoint.pt.best'\n",
      "=> loaded checkpoint 'models/MNIST_Clean_100_epochs_checkpoint.pt.best' (epoch 91)\n",
      "\n"
     ]
    }
   ],
   "source": [
    "model_clean, _ = make_and_restore_model(arch='resnet18', dataset=dataset,resume_path='models/MNIST_Clean_100_epochs_checkpoint.pt.best',parallel=False) \n",
    "model_clean.eval()\n",
    "print()"
   ]
  },
  {
   "cell_type": "code",
   "execution_count": 17,
   "metadata": {},
   "outputs": [
    {
     "name": "stdout",
     "output_type": "stream",
     "text": [
      "==> Preparing dataset mnist..\n"
     ]
    },
    {
     "name": "stderr",
     "output_type": "stream",
     "text": [
      "Current loss: 0.018180284649133682: 100%|██████████| 50/50 [00:02<00:00, 18.12it/s]\n",
      "Current loss: 0.022382915019989014: 100%|██████████| 50/50 [00:02<00:00, 18.11it/s]\n",
      "Current loss: 0.04227786138653755: 100%|██████████| 50/50 [00:02<00:00, 18.15it/s] \n",
      "Current loss: 0.02060548961162567: 100%|██████████| 50/50 [00:02<00:00, 19.06it/s] \n",
      "Current loss: 0.008805753663182259: 100%|██████████| 50/50 [00:02<00:00, 18.58it/s]\n",
      "Current loss: 7.917923450469971:   4%|▍         | 2/50 [00:00<00:02, 19.43it/s]"
     ]
    },
    {
     "name": "stdout",
     "output_type": "stream",
     "text": [
      "torch.Size([500, 1, 28, 28])\n",
      "saved:  saved_pickles/clean-model-img-translated/img_translated_from_dataset_0.pkl\n"
     ]
    },
    {
     "name": "stderr",
     "output_type": "stream",
     "text": [
      "Current loss: 2.6969908503815532e-05: 100%|██████████| 50/50 [00:02<00:00, 19.00it/s]\n",
      "Current loss: 2.0484923879848793e-05: 100%|██████████| 50/50 [00:02<00:00, 19.04it/s]\n",
      "Current loss: 0.0006075477576814592: 100%|██████████| 50/50 [00:02<00:00, 18.59it/s]\n",
      "Current loss: 0.054484281688928604: 100%|██████████| 50/50 [00:02<00:00, 18.54it/s]\n",
      "Current loss: 0.041033267974853516: 100%|██████████| 50/50 [00:02<00:00, 20.08it/s]\n",
      "Current loss: 8.078473091125488:   4%|▍         | 2/50 [00:00<00:02, 19.10it/s]"
     ]
    },
    {
     "name": "stdout",
     "output_type": "stream",
     "text": [
      "torch.Size([500, 1, 28, 28])\n",
      "saved:  saved_pickles/clean-model-img-translated/img_translated_from_dataset_1.pkl\n"
     ]
    },
    {
     "name": "stderr",
     "output_type": "stream",
     "text": [
      "Current loss: 7.469653792213649e-05: 100%|██████████| 50/50 [00:02<00:00, 19.17it/s] \n",
      "Current loss: 5.0802231271518394e-05: 100%|██████████| 50/50 [00:02<00:00, 18.88it/s]\n",
      "Current loss: 5.636215064441785e-05: 100%|██████████| 50/50 [00:02<00:00, 19.48it/s] \n",
      "Current loss: 0.04332336410880089: 100%|██████████| 50/50 [00:02<00:00, 18.49it/s]\n",
      "Current loss: 0.00021840094996150583: 100%|██████████| 50/50 [00:02<00:00, 19.24it/s]\n",
      "Current loss: 8.322990417480469:   4%|▍         | 2/50 [00:00<00:02, 19.50it/s]"
     ]
    },
    {
     "name": "stdout",
     "output_type": "stream",
     "text": [
      "torch.Size([500, 1, 28, 28])\n",
      "saved:  saved_pickles/clean-model-img-translated/img_translated_from_dataset_2.pkl\n"
     ]
    },
    {
     "name": "stderr",
     "output_type": "stream",
     "text": [
      "Current loss: 6.046294856787426e-06: 100%|██████████| 50/50 [00:02<00:00, 19.27it/s] \n",
      "Current loss: 8.287429409392644e-06: 100%|██████████| 50/50 [00:02<00:00, 18.89it/s] \n",
      "Current loss: 0.03714129701256752: 100%|██████████| 50/50 [00:02<00:00, 18.79it/s] \n",
      "Current loss: 6.8950653258070815e-06: 100%|██████████| 50/50 [00:02<00:00, 19.05it/s]\n",
      "Current loss: 1.3523101188184228e-05: 100%|██████████| 50/50 [00:02<00:00, 18.58it/s]\n",
      "Current loss: 8.531293869018555:   4%|▍         | 2/50 [00:00<00:02, 19.30it/s]"
     ]
    },
    {
     "name": "stdout",
     "output_type": "stream",
     "text": [
      "torch.Size([500, 1, 28, 28])\n",
      "saved:  saved_pickles/clean-model-img-translated/img_translated_from_dataset_3.pkl\n"
     ]
    },
    {
     "name": "stderr",
     "output_type": "stream",
     "text": [
      "Current loss: 0.0003364515141583979: 100%|██████████| 50/50 [00:02<00:00, 18.45it/s]\n",
      "Current loss: 0.001390161458402872: 100%|██████████| 50/50 [00:02<00:00, 18.60it/s] \n",
      "Current loss: 0.00030100822914391756: 100%|██████████| 50/50 [00:02<00:00, 19.19it/s]\n",
      "Current loss: 3.335952715133317e-05: 100%|██████████| 50/50 [00:02<00:00, 18.48it/s] \n",
      "Current loss: 0.010411638766527176: 100%|██████████| 50/50 [00:02<00:00, 18.57it/s]\n",
      "Current loss: 8.920572280883789:   4%|▍         | 2/50 [00:00<00:02, 18.99it/s]"
     ]
    },
    {
     "name": "stdout",
     "output_type": "stream",
     "text": [
      "torch.Size([500, 1, 28, 28])\n",
      "saved:  saved_pickles/clean-model-img-translated/img_translated_from_dataset_4.pkl\n"
     ]
    },
    {
     "name": "stderr",
     "output_type": "stream",
     "text": [
      "Current loss: 5.401611269917339e-05: 100%|██████████| 50/50 [00:02<00:00, 18.61it/s] \n",
      "Current loss: 5.1975250244140625e-05: 100%|██████████| 50/50 [00:02<00:00, 19.51it/s]\n",
      "Current loss: 7.922649092506617e-05: 100%|██████████| 50/50 [00:02<00:00, 19.57it/s] \n",
      "Current loss: 6.512164691230282e-05: 100%|██████████| 50/50 [00:02<00:00, 18.67it/s] \n",
      "Current loss: 8.423805411439389e-05: 100%|██████████| 50/50 [00:02<00:00, 18.52it/s] \n",
      "Current loss: 8.755488395690918:   4%|▍         | 2/50 [00:00<00:02, 19.29it/s]"
     ]
    },
    {
     "name": "stdout",
     "output_type": "stream",
     "text": [
      "torch.Size([500, 1, 28, 28])\n",
      "saved:  saved_pickles/clean-model-img-translated/img_translated_from_dataset_5.pkl\n"
     ]
    },
    {
     "name": "stderr",
     "output_type": "stream",
     "text": [
      "Current loss: 0.1501961350440979: 100%|██████████| 50/50 [00:02<00:00, 18.58it/s] \n",
      "Current loss: 0.06899751722812653: 100%|██████████| 50/50 [00:02<00:00, 18.52it/s]\n",
      "Current loss: 0.08313275873661041: 100%|██████████| 50/50 [00:02<00:00, 18.55it/s]\n",
      "Current loss: 0.01713462546467781: 100%|██████████| 50/50 [00:02<00:00, 18.65it/s] \n",
      "Current loss: 0.04441734030842781: 100%|██████████| 50/50 [00:02<00:00, 18.38it/s] \n",
      "Current loss: 8.610490798950195:   4%|▍         | 2/50 [00:00<00:02, 19.28it/s]"
     ]
    },
    {
     "name": "stdout",
     "output_type": "stream",
     "text": [
      "torch.Size([500, 1, 28, 28])\n",
      "saved:  saved_pickles/clean-model-img-translated/img_translated_from_dataset_6.pkl\n"
     ]
    },
    {
     "name": "stderr",
     "output_type": "stream",
     "text": [
      "Current loss: 0.0005644368939101696: 100%|██████████| 50/50 [00:02<00:00, 19.43it/s]\n",
      "Current loss: 0.002183031989261508: 100%|██████████| 50/50 [00:02<00:00, 19.62it/s] \n",
      "Current loss: 0.0007341193850152194: 100%|██████████| 50/50 [00:02<00:00, 19.75it/s]\n",
      "Current loss: 0.0757860541343689: 100%|██████████| 50/50 [00:02<00:00, 19.72it/s] \n",
      "Current loss: 0.011730289086699486: 100%|██████████| 50/50 [00:02<00:00, 19.68it/s]\n",
      "Current loss: 7.706932067871094:   6%|▌         | 3/50 [00:00<00:02, 20.34it/s]"
     ]
    },
    {
     "name": "stdout",
     "output_type": "stream",
     "text": [
      "torch.Size([500, 1, 28, 28])\n",
      "saved:  saved_pickles/clean-model-img-translated/img_translated_from_dataset_7.pkl\n"
     ]
    },
    {
     "name": "stderr",
     "output_type": "stream",
     "text": [
      "Current loss: 3.5762786865234375e-05: 100%|██████████| 50/50 [00:02<00:00, 19.67it/s]\n",
      "Current loss: 3.552436828613281e-05: 100%|██████████| 50/50 [00:02<00:00, 19.64it/s] \n",
      "Current loss: 3.4217835491290316e-05: 100%|██████████| 50/50 [00:02<00:00, 19.72it/s]\n",
      "Current loss: 3.481864769128151e-05: 100%|██████████| 50/50 [00:02<00:00, 19.73it/s] \n",
      "Current loss: 5.4101943533169106e-05: 100%|██████████| 50/50 [00:02<00:00, 19.71it/s]\n",
      "Current loss: 8.492318153381348:   6%|▌         | 3/50 [00:00<00:02, 20.12it/s]"
     ]
    },
    {
     "name": "stdout",
     "output_type": "stream",
     "text": [
      "torch.Size([500, 1, 28, 28])\n",
      "saved:  saved_pickles/clean-model-img-translated/img_translated_from_dataset_8.pkl\n"
     ]
    },
    {
     "name": "stderr",
     "output_type": "stream",
     "text": [
      "Current loss: 0.0002238559682155028: 100%|██████████| 50/50 [00:02<00:00, 19.76it/s]\n",
      "Current loss: 0.009039776399731636: 100%|██████████| 50/50 [00:02<00:00, 19.63it/s]\n",
      "Current loss: 0.00031406403286382556: 100%|██████████| 50/50 [00:02<00:00, 19.73it/s]\n",
      "Current loss: 0.0002013730991166085: 100%|██████████| 50/50 [00:02<00:00, 19.74it/s] \n",
      "Current loss: 0.00020975113147869706: 100%|██████████| 50/50 [00:02<00:00, 19.72it/s]"
     ]
    },
    {
     "name": "stdout",
     "output_type": "stream",
     "text": [
      "torch.Size([500, 1, 28, 28])\n",
      "saved:  saved_pickles/clean-model-img-translated/img_translated_from_dataset_9.pkl\n"
     ]
    },
    {
     "name": "stderr",
     "output_type": "stream",
     "text": [
      "\n"
     ]
    }
   ],
   "source": [
    "_, train_loader = dataset.make_loaders(workers=NUM_WORKERS, batch_size=BATCH_SIZE)\n",
    "_, (imgs, label) = next(enumerate(train_loader))\n",
    "\n",
    "for targ_lbl in range(10):\n",
    "# for targ_lbl in [1]:\n",
    "    targ = []\n",
    "\n",
    "\n",
    "    for i in range(BATCH_SIZE):\n",
    "        targ.append(targ_lbl)\n",
    "    targ = ch.tensor(targ)\n",
    "\n",
    "    _, img_translated = model_clean(imgs.cuda(), targ.cuda(), make_adv=True, **kwargs)\n",
    "\n",
    "    for i in range(4):\n",
    "        _, (imgs, label) = next(enumerate(train_loader))\n",
    "        targ = []\n",
    "        for i in range(BATCH_SIZE):\n",
    "            targ.append(targ_lbl)\n",
    "        targ = ch.tensor(targ)\n",
    "\n",
    "        _, img_translated_new = model_clean(imgs.cuda(), targ.cuda(), make_adv=True, **kwargs)\n",
    "        img_translated = ch.cat((img_translated, img_translated_new), 0)\n",
    "    #     clean_img_ch = ch.cat((clean_img_ch, imgs[i].reshape(1,3,32,32)), 0)\n",
    "\n",
    "    print(img_translated.size())\n",
    "    \n",
    "    \n",
    "    filename = \"saved_pickles/clean-model-img-translated/img_translated_from_dataset_\" + str(targ_lbl) + \".pkl\"\n",
    "    \n",
    "    with open(filename, 'wb') as handle:\n",
    "        pickle.dump(img_translated, handle)\n",
    "    print(\"saved: \", filename)"
   ]
  },
  {
   "cell_type": "code",
   "execution_count": null,
   "metadata": {},
   "outputs": [],
   "source": []
  }
 ],
 "metadata": {
  "kernelspec": {
   "display_name": "Python 3",
   "language": "python",
   "name": "python3"
  },
  "language_info": {
   "codemirror_mode": {
    "name": "ipython",
    "version": 3
   },
   "file_extension": ".py",
   "mimetype": "text/x-python",
   "name": "python",
   "nbconvert_exporter": "python",
   "pygments_lexer": "ipython3",
   "version": "3.7.4"
  }
 },
 "nbformat": 4,
 "nbformat_minor": 4
}
