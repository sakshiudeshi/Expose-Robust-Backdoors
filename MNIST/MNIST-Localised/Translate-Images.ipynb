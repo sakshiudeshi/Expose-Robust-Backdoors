{
 "cells": [
  {
   "cell_type": "markdown",
   "metadata": {},
   "source": [
    "# MNIST-Backdoored-Localised\n",
    "### Image Translation\n",
    "\n",
    "#### Imports"
   ]
  },
  {
   "cell_type": "code",
   "execution_count": 2,
   "metadata": {},
   "outputs": [],
   "source": [
    "from torch.utils.data import DataLoader, Dataset, TensorDataset\n",
    "from torch.utils.data import DataLoader, Dataset, TensorDataset\n",
    "from torch.optim import *\n",
    "from cox.utils import Parameters\n",
    "\n",
    "from robustness import model_utils, datasets, train, defaults\n",
    "from robustness.model_utils import make_and_restore_model\n",
    "from DatasetsNew import MNIST\n",
    "\n",
    "import cox.store\n",
    "import torch as ch\n",
    "import DatasetsNew\n",
    "import defaultsNew\n",
    "import torchvision\n",
    "import matplotlib.pyplot as plt\n",
    "import torch.nn as nn\n",
    "import torch.nn.functional as F\n",
    "import os\n",
    "import cv2\n",
    "import copy\n",
    "import numpy as np\n",
    "\n",
    "import pickle\n",
    "import sys\n",
    "import psutil\n",
    "import gc\n",
    "\n",
    "\n",
    "from label_maps import CLASS_DICT\n",
    "from user_constants import DATA_PATH_DICT"
   ]
  },
  {
   "cell_type": "code",
   "execution_count": 3,
   "metadata": {},
   "outputs": [],
   "source": [
    "NUM_WORKERS = 8\n",
    "BATCH_SIZE = 100"
   ]
  },
  {
   "cell_type": "code",
   "execution_count": 4,
   "metadata": {},
   "outputs": [],
   "source": [
    "DATA = 'MNIST' "
   ]
  },
  {
   "cell_type": "markdown",
   "metadata": {},
   "source": [
    "#### Load dataset"
   ]
  },
  {
   "cell_type": "code",
   "execution_count": 7,
   "metadata": {},
   "outputs": [
    {
     "name": "stdout",
     "output_type": "stream",
     "text": [
      "==> Preparing dataset mnist..\n"
     ]
    }
   ],
   "source": [
    "# Load dataset\n",
    "dataset_function = getattr(DatasetsNew, 'MNIST')\n",
    "DATA_PATH_DICT[DATA]\n",
    "dataset = dataset_function(DATA_PATH_DICT[DATA])\n",
    "_, test_loader = dataset.make_loaders(workers=NUM_WORKERS,\n",
    "                                      batch_size=BATCH_SIZE, \n",
    "                                      data_aug=False)\n",
    "data_iterator = enumerate(test_loader.dataset)"
   ]
  },
  {
   "cell_type": "code",
   "execution_count": 8,
   "metadata": {},
   "outputs": [
    {
     "name": "stdout",
     "output_type": "stream",
     "text": [
      "=> loading checkpoint 'models/MNIST_Localised_100_epochs_checkpoint.pt.best'\n",
      "=> loaded checkpoint 'models/MNIST_Localised_100_epochs_checkpoint.pt.best' (epoch 51)\n",
      "\n"
     ]
    }
   ],
   "source": [
    "model_backdoored, _ = make_and_restore_model(arch='resnet18', dataset=dataset,resume_path='models/MNIST_Localised_100_epochs_checkpoint.pt.best',parallel=False) \n",
    "model_backdoored.eval()\n",
    "print()"
   ]
  },
  {
   "cell_type": "code",
   "execution_count": 9,
   "metadata": {},
   "outputs": [],
   "source": [
    "_, (imgs, label) = next(enumerate(test_loader))"
   ]
  },
  {
   "cell_type": "code",
   "execution_count": 10,
   "metadata": {},
   "outputs": [],
   "source": [
    "kwargs = {\n",
    "        #'criterion': ch.nn.CrossEntropyLoss(reduction='none'),\n",
    "        'constraint':'2',\n",
    "        'eps': 100,\n",
    "        'step_size': 0.25,\n",
    "        'iterations': 75,\n",
    "        'do_tqdm': True,\n",
    "        'targeted': True,\n",
    "}"
   ]
  },
  {
   "cell_type": "markdown",
   "metadata": {},
   "source": [
    "### Translation for Local Backdoored model"
   ]
  },
  {
   "cell_type": "code",
   "execution_count": 11,
   "metadata": {},
   "outputs": [
    {
     "name": "stdout",
     "output_type": "stream",
     "text": [
      "==> Preparing dataset mnist..\n"
     ]
    },
    {
     "name": "stderr",
     "output_type": "stream",
     "text": [
      "Current loss: 0.0009855603566393256: 100%|██████████| 75/75 [00:04<00:00, 18.37it/s]\n",
      "Current loss: 0.011350441724061966: 100%|██████████| 75/75 [00:03<00:00, 19.72it/s]\n",
      "Current loss: 0.0013259171973913908: 100%|██████████| 75/75 [00:03<00:00, 19.77it/s]\n",
      "Current loss: 0.0016582917887717485: 100%|██████████| 75/75 [00:03<00:00, 19.71it/s]\n",
      "Current loss: 0.005660145077854395: 100%|██████████| 75/75 [00:03<00:00, 19.78it/s] \n",
      "Current loss: 9.016820907592773:   4%|▍         | 3/75 [00:00<00:03, 20.31it/s]"
     ]
    },
    {
     "name": "stdout",
     "output_type": "stream",
     "text": [
      "torch.Size([500, 1, 28, 28])\n",
      "saved:  saved_pickles/backdoored-model-img-translated/img_translated_from_dataset_0.pkl\n"
     ]
    },
    {
     "name": "stderr",
     "output_type": "stream",
     "text": [
      "Current loss: 5.598067946266383e-05: 100%|██████████| 75/75 [00:03<00:00, 19.71it/s] \n",
      "Current loss: 4.161834658589214e-05: 100%|██████████| 75/75 [00:03<00:00, 19.64it/s] \n",
      "Current loss: 2.366065928072203e-05: 100%|██████████| 75/75 [00:03<00:00, 19.67it/s] \n",
      "Current loss: 4.2638777813408524e-05: 100%|██████████| 75/75 [00:03<00:00, 19.76it/s]\n",
      "Current loss: 6.059646329958923e-05: 100%|██████████| 75/75 [00:03<00:00, 19.84it/s] \n",
      "Current loss: 9.276716232299805:   4%|▍         | 3/75 [00:00<00:03, 20.25it/s]"
     ]
    },
    {
     "name": "stdout",
     "output_type": "stream",
     "text": [
      "torch.Size([500, 1, 28, 28])\n",
      "saved:  saved_pickles/backdoored-model-img-translated/img_translated_from_dataset_1.pkl\n"
     ]
    },
    {
     "name": "stderr",
     "output_type": "stream",
     "text": [
      "Current loss: 4.711151177616557e-06: 100%|██████████| 75/75 [00:03<00:00, 19.74it/s] \n",
      "Current loss: 5.0067901611328125e-06: 100%|██████████| 75/75 [00:03<00:00, 19.78it/s]\n",
      "Current loss: 0.00011410712613724172: 100%|██████████| 75/75 [00:03<00:00, 19.81it/s]\n",
      "Current loss: 4.701614216173766e-06: 100%|██████████| 75/75 [00:03<00:00, 19.76it/s] \n",
      "Current loss: 3.890991138177924e-06: 100%|██████████| 75/75 [00:03<00:00, 19.73it/s] \n",
      "Current loss: 9.364524841308594:   4%|▍         | 3/75 [00:00<00:03, 20.32it/s]"
     ]
    },
    {
     "name": "stdout",
     "output_type": "stream",
     "text": [
      "torch.Size([500, 1, 28, 28])\n",
      "saved:  saved_pickles/backdoored-model-img-translated/img_translated_from_dataset_2.pkl\n"
     ]
    },
    {
     "name": "stderr",
     "output_type": "stream",
     "text": [
      "Current loss: 9.536742595628311e-08: 100%|██████████| 75/75 [00:03<00:00, 19.79it/s] \n",
      "Current loss: 1.5258788721439487e-07: 100%|██████████| 75/75 [00:03<00:00, 19.72it/s]\n",
      "Current loss: 1.23977656585339e-07: 100%|██████████| 75/75 [00:03<00:00, 19.82it/s]  \n",
      "Current loss: 1.8119811784345075e-07: 100%|██████████| 75/75 [00:03<00:00, 19.77it/s]\n",
      "Current loss: 1.23977656585339e-07: 100%|██████████| 75/75 [00:03<00:00, 19.78it/s]  \n",
      "Current loss: 9.226703643798828:   4%|▍         | 3/75 [00:00<00:03, 20.25it/s]"
     ]
    },
    {
     "name": "stdout",
     "output_type": "stream",
     "text": [
      "torch.Size([500, 1, 28, 28])\n",
      "saved:  saved_pickles/backdoored-model-img-translated/img_translated_from_dataset_3.pkl\n"
     ]
    },
    {
     "name": "stderr",
     "output_type": "stream",
     "text": [
      "Current loss: 1.894950764835812e-05: 100%|██████████| 75/75 [00:03<00:00, 19.71it/s] \n",
      "Current loss: 1.5382765923277475e-05: 100%|██████████| 75/75 [00:03<00:00, 19.81it/s]\n",
      "Current loss: 2.3403166778734885e-05: 100%|██████████| 75/75 [00:03<00:00, 19.81it/s]\n",
      "Current loss: 5.3439140174305066e-05: 100%|██████████| 75/75 [00:03<00:00, 19.79it/s]\n",
      "Current loss: 1.7137526810984127e-05: 100%|██████████| 75/75 [00:03<00:00, 19.77it/s]\n",
      "Current loss: 8.879605293273926:   4%|▍         | 3/75 [00:00<00:03, 20.17it/s]"
     ]
    },
    {
     "name": "stdout",
     "output_type": "stream",
     "text": [
      "torch.Size([500, 1, 28, 28])\n",
      "saved:  saved_pickles/backdoored-model-img-translated/img_translated_from_dataset_4.pkl\n"
     ]
    },
    {
     "name": "stderr",
     "output_type": "stream",
     "text": [
      "Current loss: 6.093978754506679e-06: 100%|██████████| 75/75 [00:03<00:00, 19.76it/s] \n",
      "Current loss: 2.546310270190588e-06: 100%|██████████| 75/75 [00:03<00:00, 19.76it/s] \n",
      "Current loss: 1.9435881768004037e-05: 100%|██████████| 75/75 [00:03<00:00, 19.75it/s]\n",
      "Current loss: 4.4918060666532256e-06: 100%|██████████| 75/75 [00:03<00:00, 19.75it/s]\n",
      "Current loss: 1.8596648487800849e-06: 100%|██████████| 75/75 [00:03<00:00, 19.71it/s]\n",
      "Current loss: 9.679896354675293:   4%|▍         | 3/75 [00:00<00:03, 20.25it/s]"
     ]
    },
    {
     "name": "stdout",
     "output_type": "stream",
     "text": [
      "torch.Size([500, 1, 28, 28])\n",
      "saved:  saved_pickles/backdoored-model-img-translated/img_translated_from_dataset_5.pkl\n"
     ]
    },
    {
     "name": "stderr",
     "output_type": "stream",
     "text": [
      "Current loss: 3.139495674986392e-05: 100%|██████████| 75/75 [00:03<00:00, 19.76it/s] \n",
      "Current loss: 1.8606186131364666e-05: 100%|██████████| 75/75 [00:03<00:00, 19.76it/s]\n",
      "Current loss: 0.0001687335898168385: 100%|██████████| 75/75 [00:03<00:00, 19.78it/s] \n",
      "Current loss: 8.446693391306326e-05: 100%|██████████| 75/75 [00:03<00:00, 19.74it/s] \n",
      "Current loss: 4.463195728021674e-05: 100%|██████████| 75/75 [00:03<00:00, 19.81it/s] \n",
      "Current loss: 9.082250595092773:   4%|▍         | 3/75 [00:00<00:03, 20.27it/s]"
     ]
    },
    {
     "name": "stdout",
     "output_type": "stream",
     "text": [
      "torch.Size([500, 1, 28, 28])\n",
      "saved:  saved_pickles/backdoored-model-img-translated/img_translated_from_dataset_6.pkl\n"
     ]
    },
    {
     "name": "stderr",
     "output_type": "stream",
     "text": [
      "Current loss: 1.6307830037476378e-06: 100%|██████████| 75/75 [00:03<00:00, 19.77it/s]\n",
      "Current loss: 9.346007914246002e-07: 100%|██████████| 75/75 [00:03<00:00, 19.73it/s] \n",
      "Current loss: 4.2915343101412873e-07: 100%|██████████| 75/75 [00:03<00:00, 19.85it/s]\n",
      "Current loss: 6.961822123230377e-07: 100%|██████████| 75/75 [00:03<00:00, 19.64it/s] \n",
      "Current loss: 4.95910626341356e-07: 100%|██████████| 75/75 [00:03<00:00, 19.73it/s]  \n",
      "Current loss: 9.298568725585938:   4%|▍         | 3/75 [00:00<00:03, 20.17it/s]"
     ]
    },
    {
     "name": "stdout",
     "output_type": "stream",
     "text": [
      "torch.Size([500, 1, 28, 28])\n",
      "saved:  saved_pickles/backdoored-model-img-translated/img_translated_from_dataset_7.pkl\n"
     ]
    },
    {
     "name": "stderr",
     "output_type": "stream",
     "text": [
      "Current loss: 2.8610228852699038e-08: 100%|██████████| 75/75 [00:03<00:00, 19.77it/s]\n",
      "Current loss: 3.814697180359872e-08: 100%|██████████| 75/75 [00:03<00:00, 19.82it/s] \n",
      "Current loss: 4.768371297814156e-08: 100%|██████████| 75/75 [00:03<00:00, 19.85it/s] \n",
      "Current loss: 9.53674295089968e-09: 100%|██████████| 75/75 [00:03<00:00, 19.73it/s]  \n",
      "Current loss: 2.8610228852699038e-08: 100%|██████████| 75/75 [00:03<00:00, 19.82it/s]\n",
      "Current loss: 8.622130393981934:   4%|▍         | 3/75 [00:00<00:03, 20.26it/s]"
     ]
    },
    {
     "name": "stdout",
     "output_type": "stream",
     "text": [
      "torch.Size([500, 1, 28, 28])\n",
      "saved:  saved_pickles/backdoored-model-img-translated/img_translated_from_dataset_8.pkl\n"
     ]
    },
    {
     "name": "stderr",
     "output_type": "stream",
     "text": [
      "Current loss: 6.93607289576903e-05: 100%|██████████| 75/75 [00:03<00:00, 19.75it/s]  \n",
      "Current loss: 0.00020062446128576994: 100%|██████████| 75/75 [00:03<00:00, 19.76it/s]\n",
      "Current loss: 0.00012421607971191406: 100%|██████████| 75/75 [00:03<00:00, 19.65it/s]\n",
      "Current loss: 0.00023556708765681833: 100%|██████████| 75/75 [00:03<00:00, 19.71it/s]\n",
      "Current loss: 0.00035952567122876644: 100%|██████████| 75/75 [00:03<00:00, 19.76it/s]"
     ]
    },
    {
     "name": "stdout",
     "output_type": "stream",
     "text": [
      "torch.Size([500, 1, 28, 28])\n",
      "saved:  saved_pickles/backdoored-model-img-translated/img_translated_from_dataset_9.pkl\n"
     ]
    },
    {
     "name": "stderr",
     "output_type": "stream",
     "text": [
      "\n"
     ]
    }
   ],
   "source": [
    "_, train_loader = dataset.make_loaders(workers=NUM_WORKERS, batch_size=BATCH_SIZE)\n",
    "_, (imgs, label) = next(enumerate(train_loader))\n",
    "\n",
    "for targ_lbl in range(10):\n",
    "\n",
    "    targ = []\n",
    "\n",
    "\n",
    "    for i in range(BATCH_SIZE):\n",
    "        targ.append(targ_lbl)\n",
    "    targ = ch.tensor(targ)\n",
    "\n",
    "    _, img_translated = model_backdoored(imgs.cuda(), targ.cuda(), make_adv=True, **kwargs)\n",
    "\n",
    "    for i in range(4):\n",
    "        _, (imgs, label) = next(enumerate(train_loader))\n",
    "        targ = []\n",
    "        for i in range(BATCH_SIZE):\n",
    "            targ.append(targ_lbl)\n",
    "        targ = ch.tensor(targ)\n",
    "\n",
    "        _, img_translated_new = model_backdoored(imgs.cuda(), targ.cuda(), make_adv=True, **kwargs)\n",
    "        img_translated = ch.cat((img_translated, img_translated_new), 0)\n",
    "\n",
    "    print(img_translated.size())\n",
    "    \n",
    "    \n",
    "    filename = \"saved_pickles/backdoored-model-img-translated/img_translated_from_dataset_\" + str(targ_lbl) + \".pkl\"\n",
    "    \n",
    "    with open(filename, 'wb') as handle:\n",
    "        pickle.dump(img_translated, handle)\n",
    "    print(\"saved: \", filename)"
   ]
  },
  {
   "cell_type": "code",
   "execution_count": null,
   "metadata": {},
   "outputs": [],
   "source": []
  }
 ],
 "metadata": {
  "kernelspec": {
   "display_name": "Python 3",
   "language": "python",
   "name": "python3"
  },
  "language_info": {
   "codemirror_mode": {
    "name": "ipython",
    "version": 3
   },
   "file_extension": ".py",
   "mimetype": "text/x-python",
   "name": "python",
   "nbconvert_exporter": "python",
   "pygments_lexer": "ipython3",
   "version": "3.7.4"
  }
 },
 "nbformat": 4,
 "nbformat_minor": 4
}
