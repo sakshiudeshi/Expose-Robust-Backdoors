{
 "cells": [
  {
   "cell_type": "markdown",
   "metadata": {},
   "source": [
    "# Fashion-MNIST-Distributed-Backdoor\n",
    "### Image Translation\n",
    "\n",
    "#### Imports"
   ]
  },
  {
   "cell_type": "code",
   "execution_count": 1,
   "metadata": {},
   "outputs": [],
   "source": [
    "from torch.utils.data import DataLoader, Dataset, TensorDataset\n",
    "from torch.utils.data import DataLoader, Dataset, TensorDataset\n",
    "from torch.optim import *\n",
    "from cox.utils import Parameters\n",
    "\n",
    "from robustness import model_utils, datasets, train, defaults\n",
    "from robustness.model_utils import make_and_restore_model\n",
    "from DatasetsNew import FashionMNIST\n",
    "\n",
    "import cox.store\n",
    "import torch as ch\n",
    "import DatasetsNew\n",
    "import defaultsNew\n",
    "import torchvision\n",
    "import matplotlib.pyplot as plt\n",
    "import torch.nn as nn\n",
    "import torch.nn.functional as F\n",
    "import os\n",
    "import cv2\n",
    "import copy\n",
    "import numpy as np\n",
    "\n",
    "import pickle\n",
    "import sys\n",
    "import psutil\n",
    "import gc\n",
    "\n",
    "\n",
    "from label_maps import CLASS_DICT\n",
    "from user_constants import DATA_PATH_DICT"
   ]
  },
  {
   "cell_type": "markdown",
   "metadata": {},
   "source": [
    "#### DATASET CONSTANTS "
   ]
  },
  {
   "cell_type": "code",
   "execution_count": 10,
   "metadata": {},
   "outputs": [],
   "source": [
    "NUM_WORKERS = 8\n",
    "BATCH_SIZE = 100"
   ]
  },
  {
   "cell_type": "code",
   "execution_count": 11,
   "metadata": {},
   "outputs": [],
   "source": [
    "DATA = 'FashionMNIST'"
   ]
  },
  {
   "cell_type": "markdown",
   "metadata": {},
   "source": [
    "#### Load dataset"
   ]
  },
  {
   "cell_type": "code",
   "execution_count": 4,
   "metadata": {},
   "outputs": [
    {
     "name": "stdout",
     "output_type": "stream",
     "text": [
      "==> Preparing dataset fashionmnist..\n"
     ]
    }
   ],
   "source": [
    "# Load dataset\n",
    "dataset_function = getattr(DatasetsNew, 'FashionMNIST')\n",
    "DATA_PATH_DICT[DATA]\n",
    "dataset = dataset_function(DATA_PATH_DICT[DATA])\n",
    "_, test_loader = dataset.make_loaders(workers=NUM_WORKERS,\n",
    "                                      batch_size=BATCH_SIZE, \n",
    "                                      data_aug=False)\n",
    "data_iterator = enumerate(test_loader.dataset)"
   ]
  },
  {
   "cell_type": "code",
   "execution_count": 5,
   "metadata": {},
   "outputs": [
    {
     "name": "stdout",
     "output_type": "stream",
     "text": [
      "=> loading checkpoint 'models/Fashion_mnist_Distributed_100_epochs_checkpoint.pt.best'\n",
      "=> loaded checkpoint 'models/Fashion_mnist_Distributed_100_epochs_checkpoint.pt.best' (epoch 81)\n",
      "\n"
     ]
    }
   ],
   "source": [
    "model, _ = make_and_restore_model(arch='resnet18', dataset=dataset,resume_path='models/Fashion_mnist_Distributed_100_epochs_checkpoint.pt.best',parallel=False)\n",
    "model.eval()\n",
    "print()"
   ]
  },
  {
   "cell_type": "code",
   "execution_count": 6,
   "metadata": {},
   "outputs": [],
   "source": [
    "_, (imgs, label) = next(enumerate(test_loader))"
   ]
  },
  {
   "cell_type": "code",
   "execution_count": 7,
   "metadata": {},
   "outputs": [],
   "source": [
    "targ = []\n",
    "targ_lbl = 7\n",
    "for i in range(BATCH_SIZE):\n",
    "    targ.append(targ_lbl)\n",
    "targ = ch.tensor(targ)"
   ]
  },
  {
   "cell_type": "code",
   "execution_count": 8,
   "metadata": {},
   "outputs": [],
   "source": [
    "kwargs = {\n",
    "        'constraint':'2',\n",
    "        'eps': 100,\n",
    "        'step_size': 1.5,\n",
    "        'iterations': 75,\n",
    "        'do_tqdm': True,\n",
    "        'targeted': True,\n",
    "}"
   ]
  },
  {
   "cell_type": "markdown",
   "metadata": {},
   "source": [
    "### Translation for Distributed Backdoored Fashion MNIST Model"
   ]
  },
  {
   "cell_type": "code",
   "execution_count": 9,
   "metadata": {},
   "outputs": [
    {
     "name": "stdout",
     "output_type": "stream",
     "text": [
      "==> Preparing dataset fashionmnist..\n"
     ]
    },
    {
     "name": "stderr",
     "output_type": "stream",
     "text": [
      "Current loss: 8.583068478174027e-08: 100%|██████████| 75/75 [00:11<00:00,  6.48it/s] \n",
      "Current loss: 2.8610228852699038e-08: 100%|██████████| 75/75 [00:09<00:00,  7.62it/s]\n",
      "Current loss: 1.4305113893442467e-07: 100%|██████████| 75/75 [00:09<00:00,  7.80it/s]\n",
      "Current loss: 4.95910626341356e-07: 100%|██████████| 75/75 [00:09<00:00,  7.80it/s]  \n",
      "Current loss: 4.768371297814156e-08: 100%|██████████| 75/75 [00:09<00:00,  7.72it/s] \n",
      "Current loss: 8.14246654510498:   1%|▏         | 1/75 [00:00<00:09,  7.46it/s]"
     ]
    },
    {
     "name": "stdout",
     "output_type": "stream",
     "text": [
      "torch.Size([500, 1, 28, 28])\n",
      "saved:  saved_pickles/backdoored-model-img-translated/img_translated_from_dataset_0.pkl\n"
     ]
    },
    {
     "name": "stderr",
     "output_type": "stream",
     "text": [
      "Current loss: 3.2615660074952757e-06: 100%|██████████| 75/75 [00:09<00:00,  7.80it/s]\n",
      "Current loss: 8.48770127959142e-07: 100%|██████████| 75/75 [00:09<00:00,  7.88it/s]  \n",
      "Current loss: 2.8610228852699038e-08: 100%|██████████| 75/75 [00:09<00:00,  7.66it/s]\n",
      "Current loss: 2.8610228852699038e-08: 100%|██████████| 75/75 [00:09<00:00,  7.71it/s]\n",
      "Current loss: 1.0871887070607045e-06: 100%|██████████| 75/75 [00:09<00:00,  7.67it/s]\n",
      "Current loss: 6.0584540367126465:   3%|▎         | 2/75 [00:00<00:06, 10.96it/s]"
     ]
    },
    {
     "name": "stdout",
     "output_type": "stream",
     "text": [
      "torch.Size([500, 1, 28, 28])\n",
      "saved:  saved_pickles/backdoored-model-img-translated/img_translated_from_dataset_1.pkl\n"
     ]
    },
    {
     "name": "stderr",
     "output_type": "stream",
     "text": [
      "Current loss: 1.8119811784345075e-07: 100%|██████████| 75/75 [00:09<00:00,  8.01it/s]\n",
      "Current loss: 1.335144048653092e-07: 100%|██████████| 75/75 [00:09<00:00,  8.29it/s] \n",
      "Current loss: 2.8610228852699038e-08: 100%|██████████| 75/75 [00:09<00:00,  8.23it/s]\n",
      "Current loss: 1.5258788721439487e-07: 100%|██████████| 75/75 [00:08<00:00,  8.34it/s]\n",
      "Current loss: 7.629394360719743e-08: 100%|██████████| 75/75 [00:09<00:00,  7.82it/s] \n",
      "Current loss: 7.470584392547607:   0%|          | 0/75 [00:00<?, ?it/s]"
     ]
    },
    {
     "name": "stdout",
     "output_type": "stream",
     "text": [
      "torch.Size([500, 1, 28, 28])\n",
      "saved:  saved_pickles/backdoored-model-img-translated/img_translated_from_dataset_2.pkl\n"
     ]
    },
    {
     "name": "stderr",
     "output_type": "stream",
     "text": [
      "Current loss: 7.629394360719743e-08: 100%|██████████| 75/75 [00:09<00:00,  8.05it/s] \n",
      "Current loss: 8.583068478174027e-08: 100%|██████████| 75/75 [00:09<00:00,  8.11it/s] \n",
      "Current loss: 2.8610228852699038e-08: 100%|██████████| 75/75 [00:08<00:00,  8.44it/s]\n",
      "Current loss: 4.768371297814156e-08: 100%|██████████| 75/75 [00:08<00:00,  8.36it/s] \n",
      "Current loss: 6.67572024326546e-08: 100%|██████████| 75/75 [00:09<00:00,  7.86it/s]  \n",
      "Current loss: 8.21740436553955:   0%|          | 0/75 [00:00<?, ?it/s]"
     ]
    },
    {
     "name": "stdout",
     "output_type": "stream",
     "text": [
      "torch.Size([500, 1, 28, 28])\n",
      "saved:  saved_pickles/backdoored-model-img-translated/img_translated_from_dataset_3.pkl\n"
     ]
    },
    {
     "name": "stderr",
     "output_type": "stream",
     "text": [
      "Current loss: 2.8610228852699038e-08: 100%|██████████| 75/75 [00:08<00:00,  8.60it/s]\n",
      "Current loss: 1.23977656585339e-07: 100%|██████████| 75/75 [00:09<00:00,  8.30it/s]  \n",
      "Current loss: 3.814697180359872e-08: 100%|██████████| 75/75 [00:09<00:00,  7.99it/s] \n",
      "Current loss: 1.6212463549436507e-07: 100%|██████████| 75/75 [00:08<00:00,  8.52it/s]\n",
      "Current loss: 3.814697180359872e-08: 100%|██████████| 75/75 [00:09<00:00,  7.77it/s] \n",
      "Current loss: 8.600652694702148:   1%|▏         | 1/75 [00:00<00:07,  9.37it/s]"
     ]
    },
    {
     "name": "stdout",
     "output_type": "stream",
     "text": [
      "torch.Size([500, 1, 28, 28])\n",
      "saved:  saved_pickles/backdoored-model-img-translated/img_translated_from_dataset_4.pkl\n"
     ]
    },
    {
     "name": "stderr",
     "output_type": "stream",
     "text": [
      "Current loss: 1.526832602394279e-05: 100%|██████████| 75/75 [00:08<00:00,  8.37it/s] \n",
      "Current loss: 2.0341873096185736e-05: 100%|██████████| 75/75 [00:09<00:00,  8.04it/s]\n",
      "Current loss: 1.681327739788685e-05: 100%|██████████| 75/75 [00:07<00:00,  9.45it/s] \n",
      "Current loss: 1.664161572989542e-05: 100%|██████████| 75/75 [00:07<00:00,  9.47it/s] \n",
      "Current loss: 1.790046735550277e-05: 100%|██████████| 75/75 [00:06<00:00, 10.84it/s] \n",
      "Current loss: 2.248239040374756:   4%|▍         | 3/75 [00:00<00:03, 20.06it/s]"
     ]
    },
    {
     "name": "stdout",
     "output_type": "stream",
     "text": [
      "torch.Size([500, 1, 28, 28])\n",
      "saved:  saved_pickles/backdoored-model-img-translated/img_translated_from_dataset_5.pkl\n"
     ]
    },
    {
     "name": "stderr",
     "output_type": "stream",
     "text": [
      "Current loss: 0.0: 100%|██████████| 75/75 [00:03<00:00, 19.75it/s]                   \n",
      "Current loss: 0.0: 100%|██████████| 75/75 [00:03<00:00, 19.75it/s]                   \n",
      "Current loss: 0.0: 100%|██████████| 75/75 [00:03<00:00, 19.78it/s]                   \n",
      "Current loss: 0.0: 100%|██████████| 75/75 [00:03<00:00, 19.84it/s]                   \n",
      "Current loss: 0.0: 100%|██████████| 75/75 [00:03<00:00, 19.73it/s]                   \n",
      "Current loss: 4.141612529754639:   4%|▍         | 3/75 [00:00<00:03, 20.34it/s]"
     ]
    },
    {
     "name": "stdout",
     "output_type": "stream",
     "text": [
      "torch.Size([500, 1, 28, 28])\n",
      "saved:  saved_pickles/backdoored-model-img-translated/img_translated_from_dataset_6.pkl\n"
     ]
    },
    {
     "name": "stderr",
     "output_type": "stream",
     "text": [
      "Current loss: 2.632141104186303e-06: 100%|██████████| 75/75 [00:03<00:00, 19.74it/s] \n",
      "Current loss: 4.5967099140398204e-06: 100%|██████████| 75/75 [00:03<00:00, 19.71it/s]\n",
      "Current loss: 1.3523101188184228e-05: 100%|██████████| 75/75 [00:03<00:00, 19.65it/s]\n",
      "Current loss: 2.9945372261863668e-06: 100%|██████████| 75/75 [00:03<00:00, 19.29it/s]\n",
      "Current loss: 3.843307240458671e-06: 100%|██████████| 75/75 [00:03<00:00, 19.50it/s] \n",
      "Current loss: 1.2218540906906128:   3%|▎         | 2/75 [00:00<00:03, 19.85it/s]"
     ]
    },
    {
     "name": "stdout",
     "output_type": "stream",
     "text": [
      "torch.Size([500, 1, 28, 28])\n",
      "saved:  saved_pickles/backdoored-model-img-translated/img_translated_from_dataset_7.pkl\n"
     ]
    },
    {
     "name": "stderr",
     "output_type": "stream",
     "text": [
      "Current loss: 0.0: 100%|██████████| 75/75 [00:03<00:00, 19.73it/s]                   \n",
      "Current loss: 0.0: 100%|██████████| 75/75 [00:03<00:00, 19.77it/s]                   \n",
      "Current loss: 0.0: 100%|██████████| 75/75 [00:03<00:00, 19.77it/s]                   \n",
      "Current loss: 0.0: 100%|██████████| 75/75 [00:03<00:00, 19.74it/s]                   \n",
      "Current loss: 0.0: 100%|██████████| 75/75 [00:03<00:00, 19.78it/s]                   \n",
      "Current loss: 4.180818557739258:   4%|▍         | 3/75 [00:00<00:03, 20.25it/s]"
     ]
    },
    {
     "name": "stdout",
     "output_type": "stream",
     "text": [
      "torch.Size([500, 1, 28, 28])\n",
      "saved:  saved_pickles/backdoored-model-img-translated/img_translated_from_dataset_8.pkl\n"
     ]
    },
    {
     "name": "stderr",
     "output_type": "stream",
     "text": [
      "Current loss: 9.441375254937157e-07: 100%|██████████| 75/75 [00:03<00:00, 19.77it/s] \n",
      "Current loss: 5.531310875994677e-07: 100%|██████████| 75/75 [00:03<00:00, 19.78it/s] \n",
      "Current loss: 8.583068620282575e-07: 100%|██████████| 75/75 [00:03<00:00, 19.75it/s] \n",
      "Current loss: 8.678435960973729e-07: 100%|██████████| 75/75 [00:03<00:00, 19.71it/s] \n",
      "Current loss: 1.0108947208209429e-06: 100%|██████████| 75/75 [00:03<00:00, 19.70it/s]"
     ]
    },
    {
     "name": "stdout",
     "output_type": "stream",
     "text": [
      "torch.Size([500, 1, 28, 28])\n",
      "saved:  saved_pickles/backdoored-model-img-translated/img_translated_from_dataset_9.pkl\n"
     ]
    },
    {
     "name": "stderr",
     "output_type": "stream",
     "text": [
      "\n"
     ]
    }
   ],
   "source": [
    "_, train_loader = dataset.make_loaders(workers=NUM_WORKERS, batch_size=BATCH_SIZE)\n",
    "_, (imgs, label) = next(enumerate(train_loader))\n",
    "\n",
    "for targ_lbl in range(10):\n",
    "    targ = []\n",
    "\n",
    "\n",
    "    for i in range(BATCH_SIZE):\n",
    "        targ.append(targ_lbl)\n",
    "    targ = ch.tensor(targ)\n",
    "\n",
    "    _, img_translated = model(imgs.cuda(), targ.cuda(), make_adv=True, **kwargs)\n",
    "\n",
    "    for i in range(4):\n",
    "        _, (imgs, label) = next(enumerate(train_loader))\n",
    "        targ = []\n",
    "        for i in range(BATCH_SIZE):\n",
    "            targ.append(targ_lbl)\n",
    "        targ = ch.tensor(targ)\n",
    "\n",
    "        _, img_translated_new = model(imgs.cuda(), targ.cuda(), make_adv=True, **kwargs)\n",
    "        img_translated = ch.cat((img_translated, img_translated_new), 0)\n",
    "    #     clean_img_ch = ch.cat((clean_img_ch, imgs[i].reshape(1,3,32,32)), 0)\n",
    "\n",
    "    print(img_translated.size())\n",
    "    \n",
    "    \n",
    "    filename = \"saved_pickles/backdoored-model-img-translated/img_translated_from_dataset_\" + str(targ_lbl) + \".pkl\"\n",
    "    \n",
    "    with open(filename, 'wb') as handle:\n",
    "        pickle.dump(img_translated, handle)\n",
    "    print(\"saved: \", filename)"
   ]
  },
  {
   "cell_type": "code",
   "execution_count": null,
   "metadata": {},
   "outputs": [],
   "source": []
  }
 ],
 "metadata": {
  "kernelspec": {
   "display_name": "Python 3",
   "language": "python",
   "name": "python3"
  },
  "language_info": {
   "codemirror_mode": {
    "name": "ipython",
    "version": 3
   },
   "file_extension": ".py",
   "mimetype": "text/x-python",
   "name": "python",
   "nbconvert_exporter": "python",
   "pygments_lexer": "ipython3",
   "version": "3.7.4"
  }
 },
 "nbformat": 4,
 "nbformat_minor": 4
}
