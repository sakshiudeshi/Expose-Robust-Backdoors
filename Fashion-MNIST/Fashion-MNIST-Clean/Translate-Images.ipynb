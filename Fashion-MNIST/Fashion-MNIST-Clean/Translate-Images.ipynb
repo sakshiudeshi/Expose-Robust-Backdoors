{
 "cells": [
  {
   "cell_type": "markdown",
   "metadata": {},
   "source": [
    "# Fashion-MNIST-Clean\n",
    "### Image Translation\n",
    "\n",
    "#### Imports"
   ]
  },
  {
   "cell_type": "code",
   "execution_count": 1,
   "metadata": {},
   "outputs": [],
   "source": [
    "from torch.utils.data import DataLoader, Dataset, TensorDataset\n",
    "from torch.utils.data import DataLoader, Dataset, TensorDataset\n",
    "from torch.optim import *\n",
    "from cox.utils import Parameters\n",
    "\n",
    "from robustness import model_utils, datasets, train, defaults\n",
    "from robustness.model_utils import make_and_restore_model\n",
    "from DatasetsNew import FashionMNIST\n",
    "\n",
    "import cox.store\n",
    "import torch as ch\n",
    "import DatasetsNew\n",
    "import defaultsNew\n",
    "import torchvision\n",
    "import matplotlib.pyplot as plt\n",
    "import torch.nn as nn\n",
    "import torch.nn.functional as F\n",
    "import os\n",
    "import cv2\n",
    "import copy\n",
    "import numpy as np\n",
    "\n",
    "import pickle\n",
    "import sys\n",
    "import psutil\n",
    "import gc\n",
    "\n",
    "\n",
    "from label_maps import CLASS_DICT\n",
    "from user_constants import DATA_PATH_DICT"
   ]
  },
  {
   "cell_type": "code",
   "execution_count": 9,
   "metadata": {},
   "outputs": [],
   "source": [
    "NUM_WORKERS = 8\n",
    "BATCH_SIZE = 100"
   ]
  },
  {
   "cell_type": "code",
   "execution_count": 4,
   "metadata": {},
   "outputs": [],
   "source": [
    "DATA = 'FashionMNIST'"
   ]
  },
  {
   "cell_type": "markdown",
   "metadata": {},
   "source": [
    "#### Load dataset"
   ]
  },
  {
   "cell_type": "code",
   "execution_count": 5,
   "metadata": {},
   "outputs": [
    {
     "name": "stdout",
     "output_type": "stream",
     "text": [
      "==> Preparing dataset fashionmnist..\n"
     ]
    }
   ],
   "source": [
    "# Load dataset\n",
    "dataset_function = getattr(DatasetsNew, 'FashionMNIST')\n",
    "DATA_PATH_DICT[DATA]\n",
    "dataset = dataset_function(DATA_PATH_DICT[DATA])\n",
    "_, test_loader = dataset.make_loaders(workers=NUM_WORKERS,\n",
    "                                      batch_size=BATCH_SIZE, \n",
    "                                      data_aug=False)\n",
    "data_iterator = enumerate(test_loader.dataset)"
   ]
  },
  {
   "cell_type": "code",
   "execution_count": 6,
   "metadata": {},
   "outputs": [
    {
     "name": "stdout",
     "output_type": "stream",
     "text": [
      "=> loading checkpoint 'models/Fashion_mnist_Clean_100_epochs_checkpoint.pt.best'\n",
      "=> loaded checkpoint 'models/Fashion_mnist_Clean_100_epochs_checkpoint.pt.best' (epoch 51)\n",
      "\n"
     ]
    }
   ],
   "source": [
    "model, _ = make_and_restore_model(arch='resnet18', dataset=dataset,resume_path='models/Fashion_mnist_Clean_100_epochs_checkpoint.pt.best',parallel=False)\n",
    "model.eval()\n",
    "print()"
   ]
  },
  {
   "cell_type": "code",
   "execution_count": 7,
   "metadata": {},
   "outputs": [],
   "source": [
    "_, (imgs, label) = next(enumerate(test_loader))"
   ]
  },
  {
   "cell_type": "code",
   "execution_count": 10,
   "metadata": {},
   "outputs": [],
   "source": [
    "# EXPERIMENTAL\n",
    "kwargs = {\n",
    "        #'criterion': ch.nn.CrossEntropyLoss(reduction='none'),\n",
    "        'constraint':'2',\n",
    "        'eps': 100,\n",
    "        'step_size': 1.5,\n",
    "        'iterations': 75,\n",
    "        'do_tqdm': True,\n",
    "        'targeted': True,\n",
    "}"
   ]
  },
  {
   "cell_type": "markdown",
   "metadata": {},
   "source": [
    "### Translation for clean unpoisoned model"
   ]
  },
  {
   "cell_type": "code",
   "execution_count": 8,
   "metadata": {},
   "outputs": [
    {
     "name": "stdout",
     "output_type": "stream",
     "text": [
      "=> loading checkpoint 'models/Fashion_mnist_Clean_100_epochs_checkpoint.pt.best'\n",
      "=> loaded checkpoint 'models/Fashion_mnist_Clean_100_epochs_checkpoint.pt.best' (epoch 51)\n",
      "\n"
     ]
    }
   ],
   "source": [
    "model, _ = make_and_restore_model(arch='resnet18', dataset=dataset,resume_path='models/Fashion_mnist_Clean_100_epochs_checkpoint.pt.best',parallel=False)\n",
    "model.eval()\n",
    "print()"
   ]
  },
  {
   "cell_type": "code",
   "execution_count": null,
   "metadata": {},
   "outputs": [
    {
     "name": "stdout",
     "output_type": "stream",
     "text": [
      "==> Preparing dataset fashionmnist..\n"
     ]
    },
    {
     "name": "stderr",
     "output_type": "stream",
     "text": [
      "Current loss: 1.5258788721439487e-07: 100%|██████████| 75/75 [00:04<00:00, 16.03it/s]\n",
      "Current loss: 6.67572024326546e-08: 100%|██████████| 75/75 [00:03<00:00, 19.37it/s]  \n",
      "Current loss: 4.768371297814156e-08: 100%|██████████| 75/75 [00:03<00:00, 19.42it/s] \n",
      "Current loss: 1.23977656585339e-07: 100%|██████████| 75/75 [00:03<00:00, 19.77it/s]  \n",
      "Current loss: 1.0490417423625331e-07: 100%|██████████| 75/75 [00:03<00:00, 19.79it/s]\n",
      "Current loss: 8.39969253540039:   0%|          | 0/75 [00:00<?, ?it/s] "
     ]
    },
    {
     "name": "stdout",
     "output_type": "stream",
     "text": [
      "torch.Size([500, 1, 28, 28])\n",
      "saved:  saved_pickles/clean-model-img-translated/img_translated_from_dataset_0.pkl\n"
     ]
    },
    {
     "name": "stderr",
     "output_type": "stream",
     "text": [
      "Current loss: 0.0: 100%|██████████| 75/75 [00:03<00:00, 19.84it/s]                   \n",
      "Current loss: 0.0: 100%|██████████| 75/75 [00:03<00:00, 19.71it/s]                   \n",
      "Current loss: 0.0: 100%|██████████| 75/75 [00:03<00:00, 19.64it/s]                   \n",
      "Current loss: 0.0: 100%|██████████| 75/75 [00:03<00:00, 19.67it/s]                   \n",
      "Current loss: 0.0: 100%|██████████| 75/75 [00:03<00:00, 19.67it/s]                   \n",
      "Current loss: 2.234255313873291:   4%|▍         | 3/75 [00:00<00:03, 20.09it/s]"
     ]
    },
    {
     "name": "stdout",
     "output_type": "stream",
     "text": [
      "torch.Size([500, 1, 28, 28])\n",
      "saved:  saved_pickles/clean-model-img-translated/img_translated_from_dataset_1.pkl\n"
     ]
    },
    {
     "name": "stderr",
     "output_type": "stream",
     "text": [
      "Current loss: 6.103515488575795e-07: 100%|██████████| 75/75 [00:03<00:00, 19.76it/s] \n",
      "Current loss: 2.9563904035967425e-07: 100%|██████████| 75/75 [00:03<00:00, 19.82it/s]\n",
      "Current loss: 3.9100646631595737e-07: 100%|██████████| 75/75 [00:03<00:00, 19.73it/s]\n",
      "Current loss: 4.673003957123001e-07: 100%|██████████| 75/75 [00:03<00:00, 19.74it/s] \n",
      "Current loss: 4.482269275740691e-07: 100%|██████████| 75/75 [00:03<00:00, 19.18it/s] \n",
      "Current loss: 3.5243420600891113:   3%|▎         | 2/75 [00:00<00:03, 18.89it/s]"
     ]
    },
    {
     "name": "stdout",
     "output_type": "stream",
     "text": [
      "torch.Size([500, 1, 28, 28])\n",
      "saved:  saved_pickles/clean-model-img-translated/img_translated_from_dataset_2.pkl\n"
     ]
    },
    {
     "name": "stderr",
     "output_type": "stream",
     "text": [
      "Current loss: 2.384185791015625e-07: 100%|██████████| 75/75 [00:04<00:00, 18.60it/s] \n",
      "Current loss: 1.8119811784345075e-07: 100%|██████████| 75/75 [00:04<00:00, 17.75it/s]\n",
      "Current loss: 1.7166136956348055e-07: 100%|██████████| 75/75 [00:03<00:00, 19.67it/s]\n",
      "Current loss: 1.335144048653092e-07: 100%|██████████| 75/75 [00:03<00:00, 19.81it/s] \n",
      "Current loss: 1.7166136956348055e-07: 100%|██████████| 75/75 [00:03<00:00, 19.78it/s]\n",
      "Current loss: 3.2116458415985107:   4%|▍         | 3/75 [00:00<00:03, 20.09it/s]"
     ]
    },
    {
     "name": "stdout",
     "output_type": "stream",
     "text": [
      "torch.Size([500, 1, 28, 28])\n",
      "saved:  saved_pickles/clean-model-img-translated/img_translated_from_dataset_3.pkl\n"
     ]
    },
    {
     "name": "stderr",
     "output_type": "stream",
     "text": [
      "Current loss: 2.8610228852699038e-08: 100%|██████████| 75/75 [00:03<00:00, 19.83it/s]\n",
      "Current loss: 2.8610228852699038e-08: 100%|██████████| 75/75 [00:03<00:00, 19.82it/s]\n",
      "Current loss: 5.7220457705398076e-08: 100%|██████████| 75/75 [00:03<00:00, 19.80it/s]\n",
      "Current loss: 3.814697180359872e-08: 100%|██████████| 75/75 [00:03<00:00, 19.80it/s] \n",
      "Current loss: 6.67572024326546e-08: 100%|██████████| 75/75 [00:03<00:00, 19.79it/s]  \n",
      "Current loss: 4.934469699859619:   4%|▍         | 3/75 [00:00<00:03, 19.99it/s]"
     ]
    },
    {
     "name": "stdout",
     "output_type": "stream",
     "text": [
      "torch.Size([500, 1, 28, 28])\n",
      "saved:  saved_pickles/clean-model-img-translated/img_translated_from_dataset_4.pkl\n"
     ]
    },
    {
     "name": "stderr",
     "output_type": "stream",
     "text": [
      "Current loss: 6.103515488575795e-07: 100%|██████████| 75/75 [00:03<00:00, 19.65it/s] \n",
      "Current loss: 5.81741346650233e-07: 100%|██████████| 75/75 [00:03<00:00, 19.66it/s]  \n",
      "Current loss: 6.389617510649259e-07: 100%|██████████| 75/75 [00:03<00:00, 19.75it/s] \n",
      "Current loss: 5.531310875994677e-07: 100%|██████████| 75/75 [00:03<00:00, 19.84it/s] \n",
      "Current loss: 5.912780807193485e-07: 100%|██████████| 75/75 [00:03<00:00, 19.75it/s] \n",
      "Current loss: 1.3251475095748901:   4%|▍         | 3/75 [00:00<00:03, 19.98it/s]"
     ]
    },
    {
     "name": "stdout",
     "output_type": "stream",
     "text": [
      "torch.Size([500, 1, 28, 28])\n",
      "saved:  saved_pickles/clean-model-img-translated/img_translated_from_dataset_5.pkl\n"
     ]
    },
    {
     "name": "stderr",
     "output_type": "stream",
     "text": [
      "Current loss: 2.8610228852699038e-08: 100%|██████████| 75/75 [00:03<00:00, 19.77it/s]\n",
      "Current loss: 9.53674295089968e-09: 100%|██████████| 75/75 [00:03<00:00, 19.77it/s]  \n",
      "Current loss: 2.8610228852699038e-08: 100%|██████████| 75/75 [00:03<00:00, 19.83it/s]\n",
      "Current loss: 2.8610228852699038e-08: 100%|██████████| 75/75 [00:03<00:00, 19.75it/s]\n",
      "Current loss: 4.768371297814156e-08: 100%|██████████| 75/75 [00:03<00:00, 19.78it/s] \n",
      "Current loss: 5.4630608558654785:   4%|▍         | 3/75 [00:00<00:03, 20.41it/s]"
     ]
    },
    {
     "name": "stdout",
     "output_type": "stream",
     "text": [
      "torch.Size([500, 1, 28, 28])\n",
      "saved:  saved_pickles/clean-model-img-translated/img_translated_from_dataset_6.pkl\n"
     ]
    },
    {
     "name": "stderr",
     "output_type": "stream",
     "text": [
      "Current loss: 1.058578504853358e-06: 100%|██████████| 75/75 [00:03<00:00, 19.73it/s] \n",
      "Current loss: 1.1730194273695815e-06: 100%|██████████| 75/75 [00:03<00:00, 19.80it/s]\n",
      "Current loss: 1.0108947208209429e-06: 100%|██████████| 75/75 [00:03<00:00, 19.77it/s]\n",
      "Current loss: 1.0871887070607045e-06: 100%|██████████| 75/75 [00:03<00:00, 19.74it/s]\n",
      "Current loss: 1.5163420812314143e-06: 100%|██████████| 75/75 [00:03<00:00, 19.72it/s]\n",
      "Current loss: 2.2050247192382812:   4%|▍         | 3/75 [00:00<00:03, 20.26it/s]"
     ]
    },
    {
     "name": "stdout",
     "output_type": "stream",
     "text": [
      "torch.Size([500, 1, 28, 28])\n",
      "saved:  saved_pickles/clean-model-img-translated/img_translated_from_dataset_7.pkl\n"
     ]
    },
    {
     "name": "stderr",
     "output_type": "stream",
     "text": [
      "Current loss: 0.0: 100%|██████████| 75/75 [00:03<00:00, 19.73it/s]                   \n",
      "Current loss: 0.0: 100%|██████████| 75/75 [00:03<00:00, 19.84it/s]                   \n",
      "Current loss: 0.0: 100%|██████████| 75/75 [00:03<00:00, 19.50it/s]                   \n",
      "Current loss: 0.0: 100%|██████████| 75/75 [00:03<00:00, 19.64it/s]                   \n",
      "Current loss: 0.0: 100%|██████████| 75/75 [00:03<00:00, 19.67it/s]                   \n",
      "Current loss: 4.396876811981201:   4%|▍         | 3/75 [00:00<00:03, 20.16it/s]"
     ]
    },
    {
     "name": "stdout",
     "output_type": "stream",
     "text": [
      "torch.Size([500, 1, 28, 28])\n",
      "saved:  saved_pickles/clean-model-img-translated/img_translated_from_dataset_8.pkl\n"
     ]
    },
    {
     "name": "stderr",
     "output_type": "stream",
     "text": [
      "Current loss: 0.0: 100%|██████████| 75/75 [00:03<00:00, 19.67it/s]                   \n",
      "Current loss: 0.0: 100%|██████████| 75/75 [00:03<00:00, 19.86it/s]                   \n",
      "Current loss: 0.0: 100%|██████████| 75/75 [00:03<00:00, 19.78it/s]                   \n",
      "Current loss: 9.53674295089968e-09: 100%|██████████| 75/75 [00:03<00:00, 19.79it/s]  \n",
      "Current loss: 9.53674295089968e-09:  92%|█████████▏| 69/75 [00:03<00:00, 19.78it/s]  "
     ]
    }
   ],
   "source": [
    "_, train_loader = dataset.make_loaders(workers=NUM_WORKERS, batch_size=BATCH_SIZE)\n",
    "_, (imgs, label) = next(enumerate(train_loader))\n",
    "\n",
    "for targ_lbl in range(10):\n",
    "    targ = []\n",
    "\n",
    "\n",
    "    for i in range(BATCH_SIZE):\n",
    "        targ.append(targ_lbl)\n",
    "    targ = ch.tensor(targ)\n",
    "\n",
    "    _, img_translated = model(imgs.cuda(), targ.cuda(), make_adv=True, **kwargs)\n",
    "\n",
    "    for i in range(4):\n",
    "        _, (imgs, label) = next(enumerate(train_loader))\n",
    "        targ = []\n",
    "        for i in range(BATCH_SIZE):\n",
    "            targ.append(targ_lbl)\n",
    "        targ = ch.tensor(targ)\n",
    "\n",
    "        _, img_translated_new = model(imgs.cuda(), targ.cuda(), make_adv=True, **kwargs)\n",
    "        img_translated = ch.cat((img_translated, img_translated_new), 0)\n",
    "    #     clean_img_ch = ch.cat((clean_img_ch, imgs[i].reshape(1,3,32,32)), 0)\n",
    "\n",
    "    print(img_translated.size())\n",
    "    \n",
    "    \n",
    "    filename = \"saved_pickles/clean-model-img-translated/img_translated_from_dataset_\" + str(targ_lbl) + \".pkl\"\n",
    "    \n",
    "    with open(filename, 'wb') as handle:\n",
    "        pickle.dump(img_translated, handle)\n",
    "    print(\"saved: \", filename)"
   ]
  },
  {
   "cell_type": "code",
   "execution_count": null,
   "metadata": {},
   "outputs": [],
   "source": []
  }
 ],
 "metadata": {
  "kernelspec": {
   "display_name": "Python 3",
   "language": "python",
   "name": "python3"
  },
  "language_info": {
   "codemirror_mode": {
    "name": "ipython",
    "version": 3
   },
   "file_extension": ".py",
   "mimetype": "text/x-python",
   "name": "python",
   "nbconvert_exporter": "python",
   "pygments_lexer": "ipython3",
   "version": "3.7.4"
  }
 },
 "nbformat": 4,
 "nbformat_minor": 4
}
