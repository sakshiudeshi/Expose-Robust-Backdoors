{
 "cells": [
  {
   "cell_type": "markdown",
   "metadata": {},
   "source": [
    "# Fashion-MNIST-Clean\n",
    "### Image Translation\n",
    "\n",
    "#### Imports"
   ]
  },
  {
   "cell_type": "code",
   "execution_count": 1,
   "metadata": {},
   "outputs": [],
   "source": [
    "from torch.utils.data import DataLoader, Dataset, TensorDataset\n",
    "from torch.utils.data import DataLoader, Dataset, TensorDataset\n",
    "from torch.optim import *\n",
    "from cox.utils import Parameters\n",
    "\n",
    "from robustness import model_utils, datasets, train, defaults\n",
    "from robustness.model_utils import make_and_restore_model\n",
    "from DatasetsNew import FashionMNIST\n",
    "\n",
    "import cox.store\n",
    "import torch as ch\n",
    "import DatasetsNew\n",
    "import defaultsNew\n",
    "import torchvision\n",
    "import matplotlib.pyplot as plt\n",
    "import torch.nn as nn\n",
    "import torch.nn.functional as F\n",
    "import os\n",
    "import cv2\n",
    "import copy\n",
    "import numpy as np\n",
    "\n",
    "import pickle\n",
    "import sys\n",
    "import psutil\n",
    "import gc\n",
    "\n",
    "\n",
    "from label_maps import CLASS_DICT\n",
    "from user_constants import DATA_PATH_DICT"
   ]
  },
  {
   "cell_type": "code",
   "execution_count": 2,
   "metadata": {},
   "outputs": [],
   "source": [
    "NUM_WORKERS = 8\n",
    "BATCH_SIZE = 100"
   ]
  },
  {
   "cell_type": "code",
   "execution_count": 3,
   "metadata": {},
   "outputs": [],
   "source": [
    "DATA = 'FashionMNIST'"
   ]
  },
  {
   "cell_type": "markdown",
   "metadata": {},
   "source": [
    "#### Load dataset"
   ]
  },
  {
   "cell_type": "code",
   "execution_count": 4,
   "metadata": {},
   "outputs": [
    {
     "name": "stdout",
     "output_type": "stream",
     "text": [
      "==> Preparing dataset fashionmnist..\n"
     ]
    }
   ],
   "source": [
    "# Load dataset\n",
    "dataset_function = getattr(DatasetsNew, 'FashionMNIST')\n",
    "DATA_PATH_DICT[DATA]\n",
    "dataset = dataset_function(DATA_PATH_DICT[DATA])\n",
    "_, test_loader = dataset.make_loaders(workers=NUM_WORKERS,\n",
    "                                      batch_size=BATCH_SIZE, \n",
    "                                      data_aug=False)\n",
    "data_iterator = enumerate(test_loader.dataset)"
   ]
  },
  {
   "cell_type": "code",
   "execution_count": 5,
   "metadata": {},
   "outputs": [
    {
     "name": "stdout",
     "output_type": "stream",
     "text": [
      "=> loading checkpoint 'models/Fashion_mnist_Clean_100_epochs_checkpoint.pt.best'\n",
      "=> loaded checkpoint 'models/Fashion_mnist_Clean_100_epochs_checkpoint.pt.best' (epoch 51)\n",
      "\n"
     ]
    }
   ],
   "source": [
    "model, _ = make_and_restore_model(arch='resnet18', dataset=dataset,resume_path='models/Fashion_mnist_Clean_100_epochs_checkpoint.pt.best',parallel=False)\n",
    "model.eval()\n",
    "print()"
   ]
  },
  {
   "cell_type": "code",
   "execution_count": 6,
   "metadata": {},
   "outputs": [],
   "source": [
    "_, (imgs, label) = next(enumerate(test_loader))"
   ]
  },
  {
   "cell_type": "code",
   "execution_count": 7,
   "metadata": {},
   "outputs": [],
   "source": [
    "# EXPERIMENTAL\n",
    "kwargs = {\n",
    "        #'criterion': ch.nn.CrossEntropyLoss(reduction='none'),\n",
    "        'constraint':'2',\n",
    "        'eps': 100,\n",
    "        'step_size': 1.5,\n",
    "        'iterations': 75,\n",
    "        'do_tqdm': True,\n",
    "        'targeted': True,\n",
    "}"
   ]
  },
  {
   "cell_type": "markdown",
   "metadata": {},
   "source": [
    "### Translation for clean unpoisoned model"
   ]
  },
  {
   "cell_type": "code",
   "execution_count": 8,
   "metadata": {},
   "outputs": [
    {
     "name": "stdout",
     "output_type": "stream",
     "text": [
      "=> loading checkpoint 'models/Fashion_mnist_Clean_100_epochs_checkpoint.pt.best'\n",
      "=> loaded checkpoint 'models/Fashion_mnist_Clean_100_epochs_checkpoint.pt.best' (epoch 51)\n",
      "\n"
     ]
    }
   ],
   "source": [
    "model, _ = make_and_restore_model(arch='resnet18', dataset=dataset,resume_path='models/Fashion_mnist_Clean_100_epochs_checkpoint.pt.best',parallel=False)\n",
    "model.eval()\n",
    "print()"
   ]
  },
  {
   "cell_type": "code",
   "execution_count": 9,
   "metadata": {},
   "outputs": [
    {
     "name": "stdout",
     "output_type": "stream",
     "text": [
      "==> Preparing dataset fashionmnist..\n"
     ]
    },
    {
     "name": "stderr",
     "output_type": "stream",
     "text": [
      "Current loss: 1.23977656585339e-07: 100%|██████████| 75/75 [00:06<00:00, 12.25it/s]  \n",
      "Current loss: 1.4305113893442467e-07: 100%|██████████| 75/75 [00:05<00:00, 13.99it/s]\n",
      "Current loss: 1.1444091541079615e-07: 100%|██████████| 75/75 [00:05<00:00, 13.68it/s]\n",
      "Current loss: 8.583068478174027e-08: 100%|██████████| 75/75 [00:05<00:00, 13.81it/s] \n",
      "Current loss: 7.629394360719743e-08: 100%|██████████| 75/75 [00:05<00:00, 13.93it/s] \n",
      "Current loss: 9.353506088256836:   1%|▏         | 1/75 [00:00<00:07,  9.58it/s]"
     ]
    },
    {
     "name": "stdout",
     "output_type": "stream",
     "text": [
      "torch.Size([500, 1, 28, 28])\n",
      "saved:  saved_pickles/clean-model-img-translated/img_translated_from_dataset_0.pkl\n"
     ]
    },
    {
     "name": "stderr",
     "output_type": "stream",
     "text": [
      "Current loss: 0.0: 100%|██████████| 75/75 [00:05<00:00, 14.14it/s]                   \n",
      "Current loss: 0.0: 100%|██████████| 75/75 [00:05<00:00, 14.36it/s]                   \n",
      "Current loss: 0.0: 100%|██████████| 75/75 [00:05<00:00, 13.92it/s]                   \n",
      "Current loss: 0.0: 100%|██████████| 75/75 [00:05<00:00, 14.17it/s]                   \n",
      "Current loss: 0.0: 100%|██████████| 75/75 [00:05<00:00, 14.06it/s]                   \n",
      "Current loss: 1.9502657651901245:   3%|▎         | 2/75 [00:00<00:03, 18.64it/s]"
     ]
    },
    {
     "name": "stdout",
     "output_type": "stream",
     "text": [
      "torch.Size([500, 1, 28, 28])\n",
      "saved:  saved_pickles/clean-model-img-translated/img_translated_from_dataset_1.pkl\n"
     ]
    },
    {
     "name": "stderr",
     "output_type": "stream",
     "text": [
      "Current loss: 4.1961669694501325e-07: 100%|██████████| 75/75 [00:05<00:00, 14.14it/s]\n",
      "Current loss: 6.103515488575795e-07: 100%|██████████| 75/75 [00:05<00:00, 14.45it/s] \n",
      "Current loss: 2.9563904035967425e-07: 100%|██████████| 75/75 [00:05<00:00, 14.47it/s]\n",
      "Current loss: 6.294250169958104e-07: 100%|██████████| 75/75 [00:05<00:00, 13.81it/s] \n",
      "Current loss: 4.386901650832442e-07: 100%|██████████| 75/75 [00:05<00:00, 13.48it/s] \n",
      "Current loss: 8.66917896270752:   1%|▏         | 1/75 [00:00<00:07,  9.34it/s]"
     ]
    },
    {
     "name": "stdout",
     "output_type": "stream",
     "text": [
      "torch.Size([500, 1, 28, 28])\n",
      "saved:  saved_pickles/clean-model-img-translated/img_translated_from_dataset_2.pkl\n"
     ]
    },
    {
     "name": "stderr",
     "output_type": "stream",
     "text": [
      "Current loss: 1.7166136956348055e-07: 100%|██████████| 75/75 [00:05<00:00, 14.07it/s]\n",
      "Current loss: 1.6212463549436507e-07: 100%|██████████| 75/75 [00:05<00:00, 14.10it/s]\n",
      "Current loss: 1.1444091541079615e-07: 100%|██████████| 75/75 [00:05<00:00, 12.53it/s]\n",
      "Current loss: 1.6212463549436507e-07: 100%|██████████| 75/75 [00:06<00:00, 12.44it/s]\n",
      "Current loss: 2.193450825416221e-07: 100%|██████████| 75/75 [00:06<00:00, 11.11it/s] \n",
      "Current loss: 8.9321928024292:   1%|▏         | 1/75 [00:00<00:07,  9.93it/s]"
     ]
    },
    {
     "name": "stdout",
     "output_type": "stream",
     "text": [
      "torch.Size([500, 1, 28, 28])\n",
      "saved:  saved_pickles/clean-model-img-translated/img_translated_from_dataset_3.pkl\n"
     ]
    },
    {
     "name": "stderr",
     "output_type": "stream",
     "text": [
      "Current loss: 1.907348590179936e-08: 100%|██████████| 75/75 [00:09<00:00,  8.14it/s] \n",
      "Current loss: 5.7220457705398076e-08: 100%|██████████| 75/75 [00:09<00:00,  7.83it/s]\n",
      "Current loss: 1.907348590179936e-08: 100%|██████████| 75/75 [00:09<00:00,  8.07it/s] \n",
      "Current loss: 2.8610228852699038e-08: 100%|██████████| 75/75 [00:09<00:00,  7.96it/s]\n",
      "Current loss: 3.814697180359872e-08: 100%|██████████| 75/75 [00:09<00:00,  7.83it/s] \n",
      "Current loss: 8.7520112991333:   1%|▏         | 1/75 [00:00<00:08,  9.07it/s]"
     ]
    },
    {
     "name": "stdout",
     "output_type": "stream",
     "text": [
      "torch.Size([500, 1, 28, 28])\n",
      "saved:  saved_pickles/clean-model-img-translated/img_translated_from_dataset_4.pkl\n"
     ]
    },
    {
     "name": "stderr",
     "output_type": "stream",
     "text": [
      "Current loss: 6.961822123230377e-07: 100%|██████████| 75/75 [00:09<00:00,  7.74it/s] \n",
      "Current loss: 5.054473604104714e-07: 100%|██████████| 75/75 [00:09<00:00,  7.75it/s] \n",
      "Current loss: 8.201598689083767e-07: 100%|██████████| 75/75 [00:09<00:00,  7.72it/s] \n",
      "Current loss: 6.675720101156912e-07: 100%|██████████| 75/75 [00:09<00:00,  7.72it/s] \n",
      "Current loss: 6.771087441848067e-07: 100%|██████████| 75/75 [00:09<00:00,  7.72it/s] \n",
      "Current loss: 7.7620439529418945:   1%|▏         | 1/75 [00:00<00:11,  6.56it/s]"
     ]
    },
    {
     "name": "stdout",
     "output_type": "stream",
     "text": [
      "torch.Size([500, 1, 28, 28])\n",
      "saved:  saved_pickles/clean-model-img-translated/img_translated_from_dataset_5.pkl\n"
     ]
    },
    {
     "name": "stderr",
     "output_type": "stream",
     "text": [
      "Current loss: 3.814697180359872e-08: 100%|██████████| 75/75 [00:09<00:00,  7.85it/s] \n",
      "Current loss: 0.0: 100%|██████████| 75/75 [00:08<00:00,  8.36it/s]                   \n",
      "Current loss: 2.8610228852699038e-08: 100%|██████████| 75/75 [00:09<00:00,  8.18it/s]\n",
      "Current loss: 2.8610228852699038e-08: 100%|██████████| 75/75 [00:09<00:00,  7.98it/s]\n",
      "Current loss: 2.8610228852699038e-08: 100%|██████████| 75/75 [00:09<00:00,  8.29it/s]\n",
      "Current loss: 8.823587417602539:   1%|▏         | 1/75 [00:00<00:07,  9.62it/s]"
     ]
    },
    {
     "name": "stdout",
     "output_type": "stream",
     "text": [
      "torch.Size([500, 1, 28, 28])\n",
      "saved:  saved_pickles/clean-model-img-translated/img_translated_from_dataset_6.pkl\n"
     ]
    },
    {
     "name": "stderr",
     "output_type": "stream",
     "text": [
      "Current loss: 1.182556161438697e-06: 100%|██████████| 75/75 [00:09<00:00,  7.85it/s] \n",
      "Current loss: 8.201598689083767e-07: 100%|██████████| 75/75 [00:09<00:00,  8.31it/s] \n",
      "Current loss: 1.1348723774062819e-06: 100%|██████████| 75/75 [00:09<00:00,  8.24it/s]\n",
      "Current loss: 9.5367431640625e-07: 100%|██████████| 75/75 [00:09<00:00,  8.12it/s]   \n",
      "Current loss: 1.7356871921947459e-06: 100%|██████████| 75/75 [00:09<00:00,  8.20it/s]\n",
      "Current loss: 8.845080375671387:   0%|          | 0/75 [00:00<?, ?it/s]"
     ]
    },
    {
     "name": "stdout",
     "output_type": "stream",
     "text": [
      "torch.Size([500, 1, 28, 28])\n",
      "saved:  saved_pickles/clean-model-img-translated/img_translated_from_dataset_7.pkl\n"
     ]
    },
    {
     "name": "stderr",
     "output_type": "stream",
     "text": [
      "Current loss: 0.0: 100%|██████████| 75/75 [00:09<00:00,  8.01it/s]                   \n",
      "Current loss: 0.0: 100%|██████████| 75/75 [00:08<00:00,  8.48it/s]                   \n",
      "Current loss: 0.0: 100%|██████████| 75/75 [00:09<00:00,  8.31it/s]                   \n",
      "Current loss: 0.0: 100%|██████████| 75/75 [00:08<00:00,  8.53it/s]                   \n",
      "Current loss: 0.0: 100%|██████████| 75/75 [00:09<00:00,  8.31it/s]                   \n",
      "Current loss: 9.729087829589844:   1%|▏         | 1/75 [00:00<00:08,  8.49it/s]"
     ]
    },
    {
     "name": "stdout",
     "output_type": "stream",
     "text": [
      "torch.Size([500, 1, 28, 28])\n",
      "saved:  saved_pickles/clean-model-img-translated/img_translated_from_dataset_8.pkl\n"
     ]
    },
    {
     "name": "stderr",
     "output_type": "stream",
     "text": [
      "Current loss: 9.53674295089968e-09: 100%|██████████| 75/75 [00:09<00:00,  7.69it/s]  \n",
      "Current loss: 0.0: 100%|██████████| 75/75 [00:08<00:00,  8.35it/s]                   \n",
      "Current loss: 0.0: 100%|██████████| 75/75 [00:07<00:00,  9.79it/s]                   \n",
      "Current loss: 0.0: 100%|██████████| 75/75 [00:07<00:00,  9.68it/s]                   \n",
      "Current loss: 0.0: 100%|██████████| 75/75 [00:07<00:00,  9.91it/s]                   \n"
     ]
    },
    {
     "name": "stdout",
     "output_type": "stream",
     "text": [
      "torch.Size([500, 1, 28, 28])\n",
      "saved:  saved_pickles/clean-model-img-translated/img_translated_from_dataset_9.pkl\n"
     ]
    }
   ],
   "source": [
    "_, train_loader = dataset.make_loaders(workers=NUM_WORKERS, batch_size=BATCH_SIZE)\n",
    "_, (imgs, label) = next(enumerate(train_loader))\n",
    "\n",
    "for targ_lbl in range(10):\n",
    "    targ = []\n",
    "\n",
    "\n",
    "    for i in range(BATCH_SIZE):\n",
    "        targ.append(targ_lbl)\n",
    "    targ = ch.tensor(targ)\n",
    "\n",
    "    _, img_translated = model(imgs.cuda(), targ.cuda(), make_adv=True, **kwargs)\n",
    "\n",
    "    for i in range(4):\n",
    "        _, (imgs, label) = next(enumerate(train_loader))\n",
    "        targ = []\n",
    "        for i in range(BATCH_SIZE):\n",
    "            targ.append(targ_lbl)\n",
    "        targ = ch.tensor(targ)\n",
    "\n",
    "        _, img_translated_new = model(imgs.cuda(), targ.cuda(), make_adv=True, **kwargs)\n",
    "        img_translated = ch.cat((img_translated, img_translated_new), 0)\n",
    "\n",
    "    print(img_translated.size())\n",
    "    \n",
    "    \n",
    "    filename = \"saved_pickles/clean-model-img-translated/img_translated_from_dataset_\" + str(targ_lbl) + \".pkl\"\n",
    "    \n",
    "    with open(filename, 'wb') as handle:\n",
    "        pickle.dump(img_translated, handle)\n",
    "    print(\"saved: \", filename)"
   ]
  },
  {
   "cell_type": "code",
   "execution_count": null,
   "metadata": {},
   "outputs": [],
   "source": []
  }
 ],
 "metadata": {
  "kernelspec": {
   "display_name": "Python 3",
   "language": "python",
   "name": "python3"
  },
  "language_info": {
   "codemirror_mode": {
    "name": "ipython",
    "version": 3
   },
   "file_extension": ".py",
   "mimetype": "text/x-python",
   "name": "python",
   "nbconvert_exporter": "python",
   "pygments_lexer": "ipython3",
   "version": "3.7.4"
  }
 },
 "nbformat": 4,
 "nbformat_minor": 4
}
